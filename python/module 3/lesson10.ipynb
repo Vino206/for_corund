{
 "cells": [
  {
   "cell_type": "markdown",
   "metadata": {},
   "source": [
    "# Движение карты\n",
    "\n",
    "Начнем с загрузки фона. тут все просто)"
   ]
  },
  {
   "cell_type": "code",
   "execution_count": null,
   "metadata": {},
   "outputs": [],
   "source": [
    "from first_engine.game import Game\n",
    "from first_engine import objects\n",
    "import pygame\n",
    "from pprint import pprint\n",
    "\n",
    "\n",
    "class FirstGame(Game):\n",
    "    def run(self):\n",
    "        hero = objects.Character(self.surface, speed=8)\n",
    "        hero.load_sprites(name='stand_right', path='./sprites/viking/stand/right/')\n",
    "        hero.load_sprites(name='stand_left', path='./sprites/viking/stand/left/')\n",
    "        hero.load_sprites(name='run_left', path='./sprites/viking/run/left/')\n",
    "        hero.load_sprites(name='run_right', path='./sprites/viking/run/right/')\n",
    "        \n",
    "        # Опишем пару стен\n",
    "        wall = objects.Barrier(self.surface, objects=[hero], width=200, height=50, x=300, y=400)\n",
    "        wall2 = objects.Barrier(self.surface, objects=[hero], width=200, height=300, x=600, y=300)\n",
    "\n",
    "        game_over = False\n",
    "        while self.RUNNER:\n",
    "            if not game_over:\n",
    "                self.cycle_init(FPS=60)\n",
    "                wall.blit()\n",
    "                wall2.blit()\n",
    "\n",
    "                # Объекты\n",
    "                hero.blit()\n",
    "                hero.play_animation()\n",
    "                hero.drop(speed_up=1, max_speed=20)\n",
    "                left = hero.motion_left()\n",
    "                right = hero.motion_right()\n",
    "\n",
    "                if hero.body.x > 500: # Если герой дошол примерно до середины экрана\n",
    "                    hero.body.x = 500 # тогда он перестает двигаться\n",
    "                    # а начинают двигаться окружающие объекты\n",
    "                    wall.body.x -= right\n",
    "                    wall2.body.x -= right\n",
    "\n",
    "                wall.resistance()\n",
    "                wall2.resistance()\n",
    "                self.window_borders([hero])\n",
    "\n",
    "                hero.action_jump()\n",
    "\n",
    "            for event in self.events():\n",
    "                # print(event)  # отслеживание событий\n",
    "                self.close(event)\n",
    "\n",
    "\n",
    "FirstGame(width=800, height=600).run()"
   ]
  },
  {
   "cell_type": "markdown",
   "metadata": {},
   "source": [
    "Теперь попробуем загрузить фон"
   ]
  },
  {
   "cell_type": "code",
   "execution_count": null,
   "metadata": {},
   "outputs": [],
   "source": [
    "...\n",
    "while self.RUNNER:\n",
    "    if not game_over:\n",
    "        self.cycle_init(FPS=60)\n",
    "        self.surface.blit(pygame.image.load('./forest.jpg'), dest=(0, -100))\n",
    "..."
   ]
  },
  {
   "cell_type": "markdown",
   "metadata": {},
   "source": [
    "Обратите внимания, что наблюдаются просадки ФПС это потому, что мы на каждой итерации заново загружаем фон, исправим это."
   ]
  },
  {
   "cell_type": "code",
   "execution_count": null,
   "metadata": {},
   "outputs": [],
   "source": [
    "...\n",
    "bg = pygame.image.load('./forest.jpg') # загрузим картинку заранее\n",
    "bg_body = bg.get_rect(topleft=(0, -100)) # сразу вытащим её тело и размерим по координатам по отношению к экрану\n",
    "\n",
    "while self.RUNNER:\n",
    "    if not game_over:\n",
    "        self.cycle_init(FPS=60)\n",
    "        self.surface.blit(bg, dest=bg_body) # размещаем в экране\n",
    "..."
   ]
  },
  {
   "cell_type": "markdown",
   "metadata": {},
   "source": [
    "Давайте долбавим эффект при котором задний фон тоже будет двигаться"
   ]
  },
  {
   "cell_type": "code",
   "execution_count": null,
   "metadata": {},
   "outputs": [],
   "source": [
    "...\n",
    "if hero.body.right > 500:\n",
    "    hero.body.right = 500\n",
    "    wall.body.x -= right\n",
    "    wall2.body.x -= right\n",
    "    bg_body.x -= right / 2 # задний фон будет двигаться с половиной от скорости персонажа\n",
    "..."
   ]
  },
  {
   "cell_type": "markdown",
   "metadata": {},
   "source": [
    "Здесь фон будет слева отслаиваться от экрана, давайте это исправим"
   ]
  },
  {
   "cell_type": "code",
   "execution_count": null,
   "metadata": {},
   "outputs": [],
   "source": [
    "...\n",
    "if hero.body.right > 500 and bg_body.right > 800: # добавим ограничение справа\n",
    "    hero.body.right = 500\n",
    "    wall.body.x -= right\n",
    "    wall2.body.x -= right\n",
    "    bg_body.x -= right / 2\n",
    "..."
   ]
  },
  {
   "cell_type": "markdown",
   "metadata": {},
   "source": [
    "Тепер добавим движение объектов слева"
   ]
  },
  {
   "cell_type": "code",
   "execution_count": null,
   "metadata": {},
   "outputs": [],
   "source": [
    "...\n",
    "if hero.body.right > 500 and bg_body.right > 800:\n",
    "    hero.body.right = 500\n",
    "    wall.body.x -= right\n",
    "    wall2.body.x -= right\n",
    "    bg_body.x -= right / 2\n",
    "elif hero.body.left < 300 and bg_body.left < 0: # все тоже самое что и при движении вправо но в обратную сторону\n",
    "    hero.body.left = 300\n",
    "    wall.body.x += left\n",
    "    wall2.body.x += left\n",
    "    bg_body.x += left / 2\n",
    "..."
   ]
  },
  {
   "cell_type": "markdown",
   "metadata": {},
   "source": [
    "# Задание\n",
    "\n",
    "- Создайте еще персонажей, которые будут врагами\n",
    "- придумайте любой спосод атаки для всех персонажей\n",
    "- Реализуйте потерю здоровья и смерть персонажей"
   ]
  }
 ],
 "metadata": {
  "kernelspec": {
   "display_name": "Python 3",
   "language": "python",
   "name": "python3"
  },
  "language_info": {
   "codemirror_mode": {
    "name": "ipython",
    "version": 3
   },
   "file_extension": ".py",
   "mimetype": "text/x-python",
   "name": "python",
   "nbconvert_exporter": "python",
   "pygments_lexer": "ipython3",
   "version": "3.7.4"
  }
 },
 "nbformat": 4,
 "nbformat_minor": 2
}

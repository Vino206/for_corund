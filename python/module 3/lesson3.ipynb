{
 "cells": [
  {
   "cell_type": "markdown",
   "metadata": {},
   "source": [
    "# Построение движка для игр на pygame - урок 3"
   ]
  },
  {
   "cell_type": "markdown",
   "metadata": {},
   "source": [
    "## Повторение\n",
    "\n",
    "У нас есть основа для создания игр, которая находится в __./first_engine/game.py__<br>\n",
    "Так же у нас есть основной шаблон для создания игр:"
   ]
  },
  {
   "cell_type": "code",
   "execution_count": 2,
   "metadata": {},
   "outputs": [],
   "source": [
    "from first_engine.game import Game\n",
    "\n",
    "\n",
    "class FirstGame(Game):\n",
    "\n",
    "    def run(self):\n",
    "\n",
    "        # CODE\n",
    "\n",
    "        while self.RUNNER:\n",
    "            self.display_update() # в начале каждой итерации обновляем окно, что бы обновления отобразились\n",
    "            self.fps_counter() # запускаем счетчик ФПС, можно настраивать\n",
    "            self.window_fill() # заливаем окно, что бы закрасить следы объектов\n",
    "\n",
    "            for event in self.events():\n",
    "                print(event)  # отслеживание событий, не обязательно\n",
    "\n",
    "                # EVENTS CODE\n",
    "\n",
    "                self.close(event) # деинициализируем основную библиотеку и выключаем цикл\n",
    "\n",
    "\n",
    "FirstGame().run()"
   ]
  },
  {
   "cell_type": "markdown",
   "metadata": {},
   "source": [
    "## Rect & Surface\n",
    "\n",
    "До сего момента мы создавали объекты при помощи pygame.draw.rect, но у такого способа есть ограничение, мы не можем дифференцировать скин объекта от его тела и места положения. Нам приходится сразу делать все - и создавать, и отрисовывать и перемещать.\n",
    "\n",
    "Теперь воспользуемся более гибким, но несколько более длинным способом:\n",
    "- сначало создадим скин\n",
    "- потом создадим тело от скина\n",
    "- потом разместим объект в окне\n",
    "- и в конце поучимся его перемещать\n",
    "\n",
    "При чем, все эти 4 составляющие будут отделны друг от друга, что даст нам дольшой простор для творчества "
   ]
  },
  {
   "cell_type": "code",
   "execution_count": 3,
   "metadata": {},
   "outputs": [],
   "source": [
    "from first_engine.game import Game\n",
    "import pygame\n",
    "\n",
    "class FirstGame(Game):\n",
    "\n",
    "    def run(self):\n",
    "\n",
    "        obj_skin = pygame.Surface(size=(40, 40)) # Создаем скин объекта c размером 40х40 - это объект Surface\n",
    "        obj_skin.fill(color=(255, 255, 255)) # Заливаем скин белым\n",
    "        \n",
    "        self.parentSurface.blit(source=obj_skin, dest=(10, 10)) # Теперь отрисовываем скин в окне с местоположением 10 на 10\n",
    "\n",
    "        while self.RUNNER:\n",
    "            self.display_update()\n",
    "            self.fps_counter()\n",
    "\n",
    "            for event in self.events():\n",
    "\n",
    "                # EVENTS CODE\n",
    "\n",
    "                self.close(event)\n",
    "\n",
    "\n",
    "FirstGame().run()"
   ]
  },
  {
   "attachments": {
    "image.png": {
     "image/png": "[encoded data removed]"
    }
   },
   "cell_type": "markdown",
   "metadata": {},
   "source": [
    "![image.png](attachment:image.png)\n",
    "\n",
    "Как Вы можете видель мы отрисовываем скин вне цикла и значит не можем им упровлять, а потому давайте его поместим в цикл"
   ]
  },
  {
   "cell_type": "code",
   "execution_count": null,
   "metadata": {},
   "outputs": [],
   "source": [
    "from first_engine.game import Game\n",
    "import pygame\n",
    "\n",
    "class FirstGame(Game):\n",
    "\n",
    "    def run(self):\n",
    "\n",
    "        obj_skin = pygame.Surface(size=(40, 40))\n",
    "        obj_skin.fill(color=(255, 255, 255))\n",
    "\n",
    "        while self.RUNNER:\n",
    "            self.display_update()\n",
    "            self.fps_counter()\n",
    "                \n",
    "            self.parentSurface.blit(source=obj_skin, dest=(10, 10))\n",
    "            \n",
    "            for event in self.events():\n",
    "\n",
    "                # EVENTS CODE\n",
    "\n",
    "                self.close(event)\n",
    "\n",
    "\n",
    "FirstGame().run()"
   ]
  },
  {
   "cell_type": "markdown",
   "metadata": {},
   "source": [
    "Теперь мы можем поменять координаты местоположения на переменные и изменять их значения, что бы скин прямоугольника двигался \n",
    "\n",
    "Но у нас есть еще один способ, которой мы использовали при старом варианте отрисовывания объектов, но не разбирали его подробно.<br>\n",
    "Дело в том, что мы можем двигать весь объект, то есть и его скин и его тело изменяя координаты тела, а можем двигать только скин или только тело. Звучит очень странно. Но это именно так как есть, скин и тело, это 2 разные вещи, но взаимосвязанные друг с другом)\n",
    "\n",
    "Давайте посмотрим на это:"
   ]
  },
  {
   "cell_type": "code",
   "execution_count": 5,
   "metadata": {},
   "outputs": [
    {
     "name": "stdout",
     "output_type": "stream",
     "text": [
      "0\n",
      "0\n",
      "0\n",
      "0\n",
      "0\n",
      "0\n",
      "0\n",
      "0\n",
      "0\n",
      "0\n",
      "0\n",
      "0\n",
      "0\n",
      "0\n",
      "0\n",
      "0\n"
     ]
    }
   ],
   "source": [
    "from first_engine.game import Game\n",
    "import pygame\n",
    "\n",
    "class FirstGame(Game):\n",
    "\n",
    "    def run(self):\n",
    "        \n",
    "        X, Y = 10, 10 # Добавим координаты для перемещения СКИНА\n",
    "        \n",
    "        obj_skin = pygame.Surface(size=(40, 40))\n",
    "        obj_skin.fill(color=(255, 255, 255))\n",
    "        \n",
    "        obj_body = obj_skin.get_rect()  # создадим ТЕЛО, на основе СКИНА, в результате мы получаем объект Rect\n",
    "                                        # то есть ТЕЛО будет иметь изначальные координаты и размеры СКИНА\n",
    "        while self.RUNNER:\n",
    "            self.display_update()\n",
    "            self.fps_counter()\n",
    "            self.window_fill()\n",
    "                \n",
    "            self.parentSurface.blit(source=obj_skin, dest=(X, Y)) # Вставим координаты для отрисовки СКИНА\n",
    "            X += 1 # На каждой итерации будем менять положение СКИНА по оси X\n",
    "            \n",
    "            print(obj_body.x) # и будем просматривать координаты ТЕЛА по оси X\n",
    "            \n",
    "            for event in self.events():\n",
    "\n",
    "                # EVENTS CODE\n",
    "\n",
    "                self.close(event)\n",
    "\n",
    "\n",
    "FirstGame().run()"
   ]
  },
  {
   "cell_type": "markdown",
   "metadata": {},
   "source": [
    "Как мы можем видеть прямоугольник плывет, но координаты его тела остаются неизменными\n",
    "\n",
    "Теперь попробуем наоборот"
   ]
  },
  {
   "cell_type": "code",
   "execution_count": 6,
   "metadata": {},
   "outputs": [
    {
     "name": "stdout",
     "output_type": "stream",
     "text": [
      "1\n",
      "2\n",
      "3\n",
      "4\n",
      "5\n",
      "6\n",
      "7\n",
      "8\n",
      "9\n",
      "10\n",
      "11\n",
      "12\n",
      "13\n",
      "14\n",
      "15\n",
      "16\n",
      "17\n",
      "18\n",
      "19\n",
      "20\n",
      "21\n",
      "22\n",
      "23\n",
      "24\n",
      "25\n",
      "26\n",
      "27\n",
      "28\n",
      "29\n",
      "30\n",
      "31\n",
      "32\n",
      "33\n",
      "34\n",
      "35\n",
      "36\n"
     ]
    }
   ],
   "source": [
    "from first_engine.game import Game\n",
    "import pygame\n",
    "\n",
    "class FirstGame(Game):\n",
    "\n",
    "    def run(self):\n",
    "        \n",
    "        obj_skin = pygame.Surface(size=(40, 40))\n",
    "        obj_skin.fill(color=(255, 255, 255))\n",
    "        \n",
    "        obj_body = obj_skin.get_rect()  # создадим ТЕЛО, на основе СКИНА, в результате мы получаем объект Rect\n",
    "                                        # то есть ТЕЛО будет иметь изначальные координаты и размеры СКИНА\n",
    "        while self.RUNNER:\n",
    "            self.display_update()\n",
    "            self.fps_counter()\n",
    "            self.window_fill()\n",
    "                \n",
    "            self.parentSurface.blit(source=obj_skin, dest=(10, 10)) # Вставим координаты для отрисовки СКИНА\n",
    "            \n",
    "            obj_body.x += 1 # изменим местоположение ТЕЛА по оси X\n",
    "            print(obj_body.x) # и будем просматривать координаты ТЕЛА по оси X\n",
    "            \n",
    "            for event in self.events():\n",
    "\n",
    "                # EVENTS CODE\n",
    "\n",
    "                self.close(event)\n",
    "\n",
    "\n",
    "FirstGame().run()"
   ]
  },
  {
   "cell_type": "markdown",
   "metadata": {},
   "source": [
    "Как видим, на этот раз прямоугольник стоит на месте, но координаты его тела меняются.<br>\n",
    "Не сразу можно понять зачем это может пригодится, но создание игр - это творческий процесс, и такая возможность может оказаться полезной. Однако нужно быть внимательным.<br>\n",
    "\n",
    "Теперь свяжем перемещение и тела и скина, так что бы их местоположения совпадали:"
   ]
  },
  {
   "cell_type": "code",
   "execution_count": 12,
   "metadata": {},
   "outputs": [
    {
     "name": "stdout",
     "output_type": "stream",
     "text": [
      "11\n",
      "12\n",
      "13\n",
      "14\n",
      "15\n",
      "16\n",
      "17\n",
      "18\n",
      "19\n",
      "20\n",
      "21\n",
      "22\n",
      "23\n",
      "24\n",
      "25\n",
      "26\n",
      "27\n",
      "28\n",
      "29\n",
      "30\n",
      "31\n",
      "32\n",
      "33\n",
      "34\n",
      "35\n",
      "36\n"
     ]
    }
   ],
   "source": [
    "from first_engine.game import Game\n",
    "import pygame\n",
    "\n",
    "class FirstGame(Game):\n",
    "\n",
    "    def run(self):\n",
    "        \n",
    "        obj_skin = pygame.Surface(size=(40, 40))\n",
    "        obj_skin.fill(color=(255, 255, 255))\n",
    "        \n",
    "        obj_body = obj_skin.get_rect(topleft=(10, 10)) # на этот раз здесь укажем изначальные координаты объекта\n",
    "        \n",
    "        while self.RUNNER:\n",
    "            self.display_update()\n",
    "            self.fps_counter()\n",
    "            self.window_fill()\n",
    "            \n",
    "            # для этого нам всего лишь необходимо в аргумент dest вставить ТЕЛО объекта от которого был создан скин\n",
    "            self.parentSurface.blit(source=obj_skin, dest=obj_body)\n",
    "            # обект Rect по умолчанию возвращает координаты своего верхнего левого угла, \n",
    "            # но можно задать и очевидно, дописав obj_body.topleft\n",
    "            \n",
    "            obj_body.x += 1\n",
    "            print(obj_body.x)\n",
    "            \n",
    "            for event in self.events():\n",
    "\n",
    "                # EVENTS CODE\n",
    "\n",
    "                self.close(event)\n",
    "\n",
    "\n",
    "FirstGame().run()"
   ]
  },
  {
   "attachments": {
    "image.png": {
     "image/png": "[encoded data removed]"
    }
   },
   "cell_type": "markdown",
   "metadata": {},
   "source": [
    "![image.png](attachment:image.png)\n",
    "\n",
    "Теперь мы видим что и скин плывет по оси X и координаты его тела меняются\n",
    "\n",
    "# Дополняем движок новым модулем\n",
    "\n",
    "В нашей папке __first_engine__ создадим новый модуль __objects.py__ в нем создадм класс __Object__, для создания объектов."
   ]
  },
  {
   "cell_type": "code",
   "execution_count": 13,
   "metadata": {},
   "outputs": [],
   "source": [
    "import pygame\n",
    "\n",
    "\n",
    "class Object:\n",
    "\n",
    "    def __init__(self, parent: pygame.Surface, # за двоеточием стои пояснение - какой тип объкта должен приниматься\n",
    "                 width=40, height=40, x=0, y=0, # вставим значения по умолчанию\n",
    "                 color=(255, 255, 255)):\n",
    "        \n",
    "        self.parent = parent\n",
    "\n",
    "        self.skin = pygame.Surface(size=(width, height))\n",
    "        self.skin.fill(color=color)\n",
    "\n",
    "        self.body = self.skin.get_rect(topleft=(x, y))\n",
    "\n",
    "    def blit(self):\n",
    "        self.parent.blit(source=self.skin, dest=self.body)"
   ]
  },
  {
   "cell_type": "markdown",
   "metadata": {},
   "source": [
    "А в главном модуле, где мы проектируем игру, теперь можно создавать и перемещать объекты таким образом"
   ]
  },
  {
   "cell_type": "code",
   "execution_count": 15,
   "metadata": {},
   "outputs": [],
   "source": [
    "from first_engine.game import Game\n",
    "from first_engine.objects import Object\n",
    "\n",
    "\n",
    "class FirstGame(Game):\n",
    "\n",
    "    def run(self):\n",
    "\n",
    "        obj = Object(parent=self.parentSurface) # создаем объект в родительском окне, можно менять положение, размеры и цвет\n",
    "\n",
    "        while self.RUNNER:\n",
    "            self.fps_counter()\n",
    "            self.display_update()\n",
    "            self.window_fill()\n",
    "\n",
    "            obj.blit() # отрисовываем объект\n",
    "            obj.body.x += 1 # перемещаем объект\n",
    "\n",
    "            for event in self.events():\n",
    "\n",
    "                # EVENTS CODE\n",
    "\n",
    "                self.close(event)\n",
    "\n",
    "\n",
    "FirstGame().run()"
   ]
  },
  {
   "attachments": {
    "image.png": {
     "image/png": "[encoded data removed]"
    }
   },
   "cell_type": "markdown",
   "metadata": {},
   "source": [
    "![image.png](attachment:image.png)"
   ]
  },
  {
   "cell_type": "markdown",
   "metadata": {},
   "source": [
    "# Задание:\n",
    "- перепешите рисовалку на обновленном движке\n",
    "- с какими ограничениями движка при описании рисовалки вы столкнулись?\n",
    "\n",
    "Давайте исправим эти ограничения немного изменив класс __Object__"
   ]
  },
  {
   "cell_type": "code",
   "execution_count": 1,
   "metadata": {},
   "outputs": [
    {
     "name": "stdout",
     "output_type": "stream",
     "text": [
      "pygame 2.0.1 (SDL 2.0.14, Python 3.7.4)\n",
      "Hello from the pygame community. https://www.pygame.org/contribute.html\n"
     ]
    }
   ],
   "source": [
    "import pygame\n",
    "\n",
    "\n",
    "class Object:\n",
    "\n",
    "    def __init__(self, parent: pygame.Surface,\n",
    "                 width=40, height=40, x=0, y=0,\n",
    "                 color=(255, 255, 255)):\n",
    "        self.parent = parent\n",
    "        self.color = color # выделим для цвета отдельную переменную\n",
    "\n",
    "        self.skin = pygame.Surface(size=(width, height))\n",
    "        self.body = self.skin.get_rect(topleft=(x, y))\n",
    "\n",
    "    def blit(self):\n",
    "        self.skin.fill(color=self.color) # заливать объект теперь будем вначале данного метода при каждом его вызове\n",
    "        self.parent.blit(source=self.skin, dest=self.body)"
   ]
  },
  {
   "cell_type": "code",
   "execution_count": null,
   "metadata": {},
   "outputs": [],
   "source": []
  },
  {
   "cell_type": "code",
   "execution_count": null,
   "metadata": {},
   "outputs": [],
   "source": []
  }
 ],
 "metadata": {
  "kernelspec": {
   "display_name": "Python 3",
   "language": "python",
   "name": "python3"
  },
  "language_info": {
   "codemirror_mode": {
    "name": "ipython",
    "version": 3
   },
   "file_extension": ".py",
   "mimetype": "text/x-python",
   "name": "python",
   "nbconvert_exporter": "python",
   "pygments_lexer": "ipython3",
   "version": "3.7.4"
  }
 },
 "nbformat": 4,
 "nbformat_minor": 2
}

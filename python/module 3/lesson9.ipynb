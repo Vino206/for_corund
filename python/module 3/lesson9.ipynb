{
 "cells": [
  {
   "cell_type": "markdown",
   "metadata": {},
   "source": [
    "# Прыжки\n",
    "\n",
    "Давайте попробуем описать прыжки"
   ]
  },
  {
   "cell_type": "code",
   "execution_count": null,
   "metadata": {},
   "outputs": [],
   "source": [
    "from first_engine.game import Game\n",
    "from first_engine import objects\n",
    "import pygame\n",
    "\n",
    "\n",
    "class FirstGame(Game):\n",
    "    def run(self):\n",
    "        hero = objects.Character(self.surface, speed=8)\n",
    "        hero.load_sprites(name='stand_right', path='./sprites/viking/stand/right')\n",
    "        hero.load_sprites(name='stand_left', path='./sprites/viking/stand/left')\n",
    "        hero.load_sprites(name='run_left', path='./sprites/viking/run/left')\n",
    "        hero.load_sprites(name='run_right', path='./sprites/viking/run/right')\n",
    "        \n",
    "        # Создадим дополнительную преграду для тестов\n",
    "        wall = objects.Barrier(self.surface, objects=[hero], width=200, height=50, x=300, y=450)\n",
    "\n",
    "        gravity = 1 # зададим начальную скорость падения\n",
    "        last_y = hero.body.y # будем отслеживать предыдущие координаты персонажа по y\n",
    "\n",
    "        game_over = False\n",
    "        while self.RUNNER:\n",
    "            if not game_over:\n",
    "                self.cycle_init(FPS=60)\n",
    "\n",
    "                # Объекты\n",
    "                hero.blit()\n",
    "                wall.blit()\n",
    "\n",
    "                # Движения персонажа\n",
    "                hero.motion_left(sprites_active='run_left', sprite_inactive='stand_left', time_to_update=6)\n",
    "                hero.motion_right(sprites_active='run_right', sprite_inactive='stand_right', time_to_update=6)\n",
    "                # Роняем персонажа\n",
    "                hero.body.y += gravity\n",
    "\n",
    "                # проверяем - уперся ли персонаж в преграду\n",
    "                self.window_borders([hero])\n",
    "                wall.resistance()\n",
    "\n",
    "                # проверяем что бы персонаж стоял на полу, по текущим и предыдущим координатам, \n",
    "                # а так же по силе гравитации, так как она должна действовать на персонажа, даже если он просто стоит \n",
    "                if last_y == hero.body.y and gravity != 0:\n",
    "                    gravity = 1 # снижаем силу до 1\n",
    "                    if pygame.key.get_pressed()[32]: # даем возможность нажать пробел\n",
    "                        gravity = -20 # и если пробел был нажат, то меняем графитацию на противоположную - то есть прыжок\n",
    "\n",
    "                if gravity < 20: # после каждой итерации меняем скорость падения - максимальная - 20\n",
    "                    gravity += 1\n",
    "\n",
    "                last_y = hero.body.y # и сохраняем положение текущей итерации для следующей\n",
    "\n",
    "            for event in self.events():\n",
    "                # print(event)  # отслеживание событий\n",
    "                self.close(event)\n",
    "\n",
    "\n",
    "FirstGame(width=800, height=600).run()"
   ]
  },
  {
   "cell_type": "markdown",
   "metadata": {},
   "source": [
    "Мы можем видеть, что по здесь персонаж имеет 2 состояния - прижок и падение <br>\n",
    "Давайте добавим функции в __Object__ и __Character__ овечающие за падение и дрыжок"
   ]
  },
  {
   "cell_type": "code",
   "execution_count": null,
   "metadata": {},
   "outputs": [],
   "source": [
    "class Object:\n",
    "    \"\"\"\n",
    "    Основной класс на основе которого строятся другие классы, представляющие разные типы объектов\n",
    "    Содержит в себе основные методы для управление всеми объектами\n",
    "    :var sprites: Dict - сохраняет спрайты созданного на его основе объекта\n",
    "    :var last_action: str - информация о последнем действии объекта\n",
    "    :var time_to_sprite_update: int - вряме до смены спрайта, если предполагается анимация\n",
    "    :var sprite_id: int - индекс спрайта\n",
    "    \"\"\"\n",
    "    ...\n",
    "    drop_speed = 1 # добавим переменную отвечающую за скорость падения для объектов\n",
    "    \n",
    "    ...\n",
    "    \n",
    "    def drop(self, speed_up=1, max_speed=15): # добавим метод, отвечающий за падение объекта\n",
    "        \"\"\"\n",
    "        Падение персонажа\n",
    "        :return: int положение тела\n",
    "        \"\"\"\n",
    "        self.body.y += self.drop_speed\n",
    "        if self.drop_speed < max_speed:\n",
    "            self.drop_speed += speed_up\n",
    "        return self.drop_speed"
   ]
  },
  {
   "cell_type": "code",
   "execution_count": null,
   "metadata": {},
   "outputs": [],
   "source": [
    "class Character(Object):\n",
    "    \"\"\"\n",
    "    Класс для создания персонажей\n",
    "    \"\"\"\n",
    "    def __init__(self, parent: pygame.Surface, width=40, height=40, x=0, y=0, color=(255, 255, 255),\n",
    "                 speed=1, \n",
    "                 height_jump=20 # добавим аргумет отвечающий за высоту прыжка\n",
    "                ):\n",
    "        \"\"\"\n",
    "        :param parent: pygame.Surface - родимтельское окно\n",
    "        :param width: int\n",
    "        :param height: int\n",
    "        :param x: int\n",
    "        :param y: int\n",
    "        :param color: tuple - цвет в RGB\n",
    "        :param speed: int - скорость персонажа\n",
    "        \"\"\"\n",
    "        ...\n",
    "        self.height_jump = height_jump # сохраним высоту прыжка\n",
    "\n",
    "    ...\n",
    "\n",
    "    def action_jump(self): # добавим метод отвечающий за прыжок\n",
    "        if self.y == self.body.y and self.drop_speed != 1:\n",
    "            self.drop_speed = 1\n",
    "            if pygame.key.get_pressed()[32]:\n",
    "                self.drop_speed = -self.height_jump\n",
    "        self.y = self.body.y"
   ]
  },
  {
   "cell_type": "markdown",
   "metadata": {},
   "source": [
    "# Задание:\n",
    "По практикуйтесь в создании локаций:\n",
    "- Создайте платформы, пол, стены\n",
    "- Загрузите фон для игры\n",
    "- Попробуйте увеличить локацию за счет движения экрана"
   ]
  }
 ],
 "metadata": {
  "kernelspec": {
   "display_name": "Python 3",
   "language": "python",
   "name": "python3"
  },
  "language_info": {
   "codemirror_mode": {
    "name": "ipython",
    "version": 3
   },
   "file_extension": ".py",
   "mimetype": "text/x-python",
   "name": "python",
   "nbconvert_exporter": "python",
   "pygments_lexer": "ipython3",
   "version": "3.7.4"
  }
 },
 "nbformat": 4,
 "nbformat_minor": 2
}

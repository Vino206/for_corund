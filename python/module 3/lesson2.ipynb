{
 "cells": [
  {
   "cell_type": "markdown",
   "metadata": {},
   "source": [
    "# Построение движка для игр на pygame - урок 2"
   ]
  },
  {
   "cell_type": "markdown",
   "metadata": {},
   "source": [
    "## Повторение\n",
    "\n",
    "Итак у нас есть основа для создания игры, которая лежит в модуле __first_engine.game__"
   ]
  },
  {
   "cell_type": "code",
   "execution_count": 1,
   "metadata": {},
   "outputs": [
    {
     "name": "stdout",
     "output_type": "stream",
     "text": [
      "pygame 2.0.1 (SDL 2.0.14, Python 3.7.4)\n",
      "Hello from the pygame community. https://www.pygame.org/contribute.html\n"
     ]
    }
   ],
   "source": [
    "\"\"\"\n",
    "Модуль с основным классом-конструктором Game - для создания игры.\n",
    "\"\"\"\n",
    "\n",
    "import pygame\n",
    "\n",
    "\n",
    "class Game:\n",
    "    \"\"\"\n",
    "    Класс-конструктор, содержит основные методы и переменные для написания игр\n",
    "    \"\"\"\n",
    "\n",
    "    runner = True\n",
    "\n",
    "    def __init__(self, width=400, height=300):\n",
    "        \"\"\"\n",
    "        :parameter width: высота окна\n",
    "        :parameter height: ширина окна\n",
    "        \"\"\"\n",
    "        self.width = width\n",
    "        self.height = height\n",
    "\n",
    "        self.parentSurface = pygame.display.set_mode(\n",
    "            size=(width, height)\n",
    "        )  # родительское окно\n",
    "\n",
    "    @staticmethod\n",
    "    def events():\n",
    "        return pygame.event.get()\n",
    "\n",
    "    def close(self, event) -> None:\n",
    "        if event.type == 256 or (event.type == 768 and event.key == 27):  # если нажал крестик или ESC\n",
    "            pygame.quit()  # деинициализируем pygame\n",
    "            self.runner = False  # отключаем цикл"
   ]
  },
  {
   "cell_type": "markdown",
   "metadata": {},
   "source": [
    "На основе нее мы можем создать класс-наследник поторуй имеет все теже переменные и методы что и его родительский класс. То есть теперь для создания игры нам больше не нужно все подробно описывать, а просто запускаем все что нам нужно"
   ]
  },
  {
   "cell_type": "code",
   "execution_count": 1,
   "metadata": {},
   "outputs": [
    {
     "name": "stdout",
     "output_type": "stream",
     "text": [
      "pygame 2.0.1 (SDL 2.0.14, Python 3.7.4)\n",
      "Hello from the pygame community. https://www.pygame.org/contribute.html\n"
     ]
    }
   ],
   "source": [
    "from first_engine.game import Game\n",
    "\n",
    "\n",
    "class FirstGame(Game): # Создаем игру на основе Game\n",
    "\n",
    "    def run(self) -> None: # создаем метод для запуска игры\n",
    "\n",
    "        while self.runner: # запускаем игровой цикл\n",
    "            for event in self.events(): # отслеживаем события\n",
    "                self.close(event) # подключаем метод закрывающий окно\n",
    "\n",
    "\n",
    "FirstGame(width=600, height=400).run() # инициализация игры и запуск"
   ]
  },
  {
   "cell_type": "markdown",
   "metadata": {},
   "source": [
    "## 1. Создание движущихся объектов\n",
    "\n",
    "Родительский класс Game создает объект - игра, и все остальные объекты внутри игры так же будут создаваться на основе классов.\n",
    "\n",
    "Первое что мы создадим - обычный квадрат, что бы потренироваться на нем"
   ]
  },
  {
   "cell_type": "code",
   "execution_count": null,
   "metadata": {},
   "outputs": [],
   "source": [
    "import pygame\n",
    "from first_engine.game import Game\n",
    "\n",
    "\n",
    "class FirstGame(Game):\n",
    "\n",
    "    def run(self) -> None:\n",
    "\n",
    "        pygame.draw.rect(\n",
    "            surface=self.parentSurface, # где отрисовываться\n",
    "            color=(255, 255, 255), # цвет, квадрата\n",
    "            rect=(50, 50, 100, 100) # положение: X, Y и размер: Width, Height\n",
    "        )\n",
    "        pygame.display.update() # обновление окна\n",
    "\n",
    "        while self.runner:\n",
    "            for event in self.events():\n",
    "                self.close(event)\n",
    "\n",
    "\n",
    "FirstGame().run()"
   ]
  },
  {
   "attachments": {
    "image.png": {
     "image/png": "[encoded data removed]"
    }
   },
   "cell_type": "markdown",
   "metadata": {},
   "source": [
    "![image.png](attachment:image.png)\n",
    "\n",
    "Но при таком отображении мы создаем статический квадрат, если мы захотим что бы он двигался, то его нужно поместить внутри гравного цикла, и обновлять окно там же"
   ]
  },
  {
   "cell_type": "code",
   "execution_count": null,
   "metadata": {},
   "outputs": [
    {
     "name": "stdout",
     "output_type": "stream",
     "text": [
      "pygame 2.0.1 (SDL 2.0.14, Python 3.7.4)\n",
      "Hello from the pygame community. https://www.pygame.org/contribute.html\n"
     ]
    }
   ],
   "source": [
    "import pygame\n",
    "from first_engine.game import Game\n",
    "\n",
    "\n",
    "class FirstGame(Game):\n",
    "\n",
    "    def run(self) -> None:\n",
    "\n",
    "        while self.runner:\n",
    "            for event in self.events():\n",
    "                self.close(event)\n",
    "\n",
    "            pygame.draw.rect(\n",
    "                surface=self.parentSurface,  # где отрисовываться\n",
    "                color=(255, 255, 255),  # цвет, квадрата\n",
    "                rect=(50, 50, 100, 100)  # положение: X, Y и размер: Width, Height\n",
    "            )\n",
    "            pygame.display.update()  # обновление окна\n",
    "\n",
    "\n",
    "FirstGame().run()"
   ]
  },
  {
   "cell_type": "code",
   "execution_count": null,
   "metadata": {},
   "outputs": [],
   "source": [
    "\"\"\"\n",
    "Модуль с основным классом-конструктором Game - для создания игры.\n",
    "\"\"\"\n",
    "\n",
    "import pygame\n",
    "\n",
    "\n",
    "class Game:\n",
    "    \"\"\"\n",
    "    Класс-конструктор, содержит основные методы и переменные для написания игр\n",
    "    \"\"\"\n",
    "\n",
    "    runner = True\n",
    "\n",
    "    def __init__(self, width=400, height=300): ...\n",
    "\n",
    "    @staticmethod\n",
    "    def display_update():\n",
    "        pygame.display.update()\n",
    "\n",
    "    @staticmethod\n",
    "    def events(): ...\n",
    "\n",
    "    def close(self, event) -> None: ..."
   ]
  },
  {
   "cell_type": "markdown",
   "metadata": {},
   "source": [
    "- В классе Game создадим статический метод __display_update__\n",
    "\n",
    "Теперь мы можем сделать так что бы квадрат мог перемещаться, для этого нужно вынести положение Y, X за цикл, а обновлять их показатели внутри цикла"
   ]
  },
  {
   "cell_type": "code",
   "execution_count": null,
   "metadata": {},
   "outputs": [
    {
     "name": "stdout",
     "output_type": "stream",
     "text": [
      "pygame 2.0.1 (SDL 2.0.14, Python 3.7.4)\n",
      "Hello from the pygame community. https://www.pygame.org/contribute.html\n"
     ]
    }
   ],
   "source": [
    "import pygame\n",
    "from first_engine.game import Game\n",
    "\n",
    "\n",
    "class FirstGame(Game):\n",
    "\n",
    "    def run(self) -> None:\n",
    "\n",
    "        x, y = 50, 50\n",
    "\n",
    "        while self.runner:\n",
    "            for event in self.events():\n",
    "                self.close(event)\n",
    "\n",
    "            pygame.draw.rect(\n",
    "                surface=self.parentSurface,  # где отрисовываться\n",
    "                color=(255, 255, 255),  # цвет, квадрата\n",
    "                rect=(x, y, 100, 100)  # положение: X, Y и размер: Width, Height\n",
    "            )\n",
    "            pygame.display.update()  # обновление окна\n",
    "\n",
    "            x += 1\n",
    "            y += 1\n",
    "\n",
    "\n",
    "FirstGame().run()"
   ]
  },
  {
   "attachments": {
    "image.png": {
     "image/png": "[encoded data removed]"
    }
   },
   "cell_type": "markdown",
   "metadata": {},
   "source": [
    "![image.png](attachment:image.png)\n",
    "\n",
    "Теперь наш квадрат перемещавется по экрану, но мы столкнулись с проблемой - он перемещается слишком быстро.<br>\n",
    "Попробуем уменьшить значение"
   ]
  },
  {
   "cell_type": "code",
   "execution_count": null,
   "metadata": {},
   "outputs": [
    {
     "name": "stdout",
     "output_type": "stream",
     "text": [
      "pygame 2.0.1 (SDL 2.0.14, Python 3.7.4)\n",
      "Hello from the pygame community. https://www.pygame.org/contribute.html\n"
     ]
    }
   ],
   "source": [
    "import pygame\n",
    "from first_engine.game import Game\n",
    "\n",
    "\n",
    "class FirstGame(Game):\n",
    "\n",
    "    def run(self) -> None:\n",
    "\n",
    "        x, y = 50, 50\n",
    "\n",
    "        while self.runner:\n",
    "            for event in self.events():\n",
    "                self.close(event)\n",
    "\n",
    "            pygame.draw.rect(\n",
    "                surface=self.parentSurface,  # где отрисовываться\n",
    "                color=(255, 255, 255),  # цвет, квадрата\n",
    "                rect=(x, y, 100, 100)  # положение: X, Y и размер: Width, Height\n",
    "            )\n",
    "            pygame.display.update()  # обновление окна\n",
    "\n",
    "            x += 0.002\n",
    "            y += 0.002\n",
    "\n",
    "\n",
    "FirstGame().run()"
   ]
  },
  {
   "cell_type": "markdown",
   "metadata": {},
   "source": [
    "## 2. Управление FPS"
   ]
  },
  {
   "attachments": {
    "image.png": {
     "image/png": "[encoded data removed]"
    }
   },
   "cell_type": "markdown",
   "metadata": {},
   "source": [
    "![image.png](attachment:image.png)\n",
    "\n",
    "Теперь он движется медленнее, но не достаточно плавно, а иногда его скорость меняется\n",
    "\n",
    "Что бы это исправить нужно создать объект который бы управлял частотой обновления кадров"
   ]
  },
  {
   "cell_type": "code",
   "execution_count": null,
   "metadata": {},
   "outputs": [
    {
     "name": "stdout",
     "output_type": "stream",
     "text": [
      "pygame 2.0.1 (SDL 2.0.14, Python 3.7.4)\n",
      "Hello from the pygame community. https://www.pygame.org/contribute.html\n"
     ]
    }
   ],
   "source": [
    "import pygame\n",
    "from first_engine.game import Game\n",
    "\n",
    "\n",
    "class FirstGame(Game):\n",
    "\n",
    "    def run(self) -> None:\n",
    "        \n",
    "        clock = pygame.time.Clock() # счетчик FPS\n",
    "\n",
    "        x, y = 50, 50\n",
    "\n",
    "        while self.runner:\n",
    "            for event in self.events():\n",
    "                self.close(event)\n",
    "                \n",
    "            pygame.draw.rect(\n",
    "                surface=self.parentSurface,  # где отрисовываться\n",
    "                color=(255, 255, 255),  # цвет, квадрата\n",
    "                rect=(x, y, 100, 100)  # положение: X, Y и размер: Width, Height\n",
    "            )\n",
    "            pygame.display.update()  # обновление окна\n",
    "\n",
    "            x += 1\n",
    "            y += 1\n",
    "            \n",
    "            clock.tick(60)\n",
    "\n",
    "\n",
    "FirstGame().run()"
   ]
  },
  {
   "attachments": {
    "image.png": {
     "image/png": "[encoded data removed]"
    }
   },
   "cell_type": "markdown",
   "metadata": {},
   "source": [
    "![image.png](attachment:image.png)\n",
    "\n",
    "Теперь мы можем управлять характером движения квадрата, регулируя число FPS и прибавляемым число к координатам:\n",
    "- Добавим объект __clock__ в класс Game\n",
    "- ДОбавим в Game метод __fps_counter__ принимающий число FPS"
   ]
  },
  {
   "cell_type": "code",
   "execution_count": null,
   "metadata": {},
   "outputs": [],
   "source": [
    "import pygame\n",
    "\n",
    "\n",
    "class Game:\n",
    "\n",
    "    ...\n",
    "    clock = pygame.time.Clock()  # счетчик FPS\n",
    "\n",
    "    def __init__(self, width=400, height=300): ...\n",
    "\n",
    "    def fps_counter(self, FPS=30):\n",
    "        \"\"\"\n",
    "        Метод уравляущий частотой обновления кадров\n",
    "        :param FPS: число кадров в секунду\n",
    "        :return: None\n",
    "        \"\"\"\n",
    "        self.clock.tick(FPS)\n",
    "\n",
    "    @staticmethod\n",
    "    def events(): ...\n",
    "\n",
    "    def close(self, event) -> None: ..."
   ]
  },
  {
   "cell_type": "markdown",
   "metadata": {},
   "source": [
    "## 3. Управление движущимися объектами\n",
    "\n",
    "Напомню, что через __event__ мы можем отслеживать события кроисходящие в родительском окне<br>\n",
    "Давайте привяжем движение квадрата к клавишам __WASD__"
   ]
  },
  {
   "cell_type": "code",
   "execution_count": null,
   "metadata": {},
   "outputs": [
    {
     "name": "stdout",
     "output_type": "stream",
     "text": [
      "pygame 2.0.1 (SDL 2.0.14, Python 3.7.4)\n",
      "Hello from the pygame community. https://www.pygame.org/contribute.html\n"
     ]
    }
   ],
   "source": [
    "import pygame\n",
    "from first_engine.game import Game\n",
    "\n",
    "\n",
    "class FirstGame(Game):\n",
    "\n",
    "    def run(self) -> None:\n",
    "\n",
    "        x, y = 50, 50\n",
    "\n",
    "        while self.runner:\n",
    "            for event in self.events():\n",
    "#                 print(event) # отслеживание событий\n",
    "                self.close(event)\n",
    "                \n",
    "                if event.type == 768:\n",
    "                    if event.key == 119:  # W\n",
    "                        y -= 10\n",
    "                    if event.key == 115:  # S\n",
    "                        y += 10\n",
    "                    if event.key == 97:  # A\n",
    "                        x -= 10\n",
    "                    if event.key == 100:  # D\n",
    "                        x += 10\n",
    "\n",
    "            pygame.draw.rect(\n",
    "                surface=self.parentSurface,  # где отрисовываться\n",
    "                color=(255, 255, 255),  # цвет, квадрата\n",
    "                rect=(x, y, 100, 100)  # положение: X, Y и размер: Width, Height\n",
    "            )\n",
    "            pygame.display.update()  # обновление окна\n",
    "\n",
    "            self.fps_counter(FPS=60)\n",
    "\n",
    "\n",
    "FirstGame().run()"
   ]
  },
  {
   "cell_type": "markdown",
   "metadata": {},
   "source": [
    "Теперь квадрат движется при каждом нажатии на клавиши\n",
    "\n",
    "Но нам не удобно отслеживать движение квадрата из-за того, что квадрат перекрашивает пиксели через которые проходит.<br>\n",
    "Что бы этого не происходило нам в начале каждой итерации цикла нужно закрашивать родительское окно."
   ]
  },
  {
   "cell_type": "code",
   "execution_count": null,
   "metadata": {},
   "outputs": [
    {
     "name": "stdout",
     "output_type": "stream",
     "text": [
      "pygame 2.0.1 (SDL 2.0.14, Python 3.7.4)\n",
      "Hello from the pygame community. https://www.pygame.org/contribute.html\n"
     ]
    }
   ],
   "source": [
    "import pygame\n",
    "from first_engine.game import Game\n",
    "\n",
    "\n",
    "class FirstGame(Game):\n",
    "\n",
    "    def run(self) -> None:\n",
    "\n",
    "        x, y = 50, 50\n",
    "\n",
    "        while self.runner:\n",
    "            self.parentSurface.fill((0, 0, 0))  # заливаем родительское окно\n",
    "\n",
    "            for event in self.events(): ...\n",
    "\n",
    "            pygame.draw.rect(\n",
    "                surface=self.parentSurface,\n",
    "                color=(255, 255, 255),\n",
    "                rect=(x, y, 100, 100)\n",
    "            )\n",
    "            pygame.display.update()\n",
    "\n",
    "            self.fps_counter(FPS=60)\n",
    "\n",
    "\n",
    "FirstGame().run()"
   ]
  },
  {
   "attachments": {
    "image.png": {
     "image/png": "[encoded data removed]"
    }
   },
   "cell_type": "markdown",
   "metadata": {},
   "source": [
    "![image.png](attachment:image.png)\n",
    "\n",
    "Теперь родительское окно не перекрашивается в цвет квадрата при его перемещении\n",
    "- в Game методу __init__ добавим еще один аргумент __color__ со значением по умолчанию (0, 0, 0) - черный\n",
    "- в том же методе сразу после создания окна будем заливать его в __color__\n",
    "- создадим в Game метод __window_fill__ при вызове которого будем заливать окно в тот цвет, который назначается при инициализации игры"
   ]
  },
  {
   "cell_type": "code",
   "execution_count": null,
   "metadata": {},
   "outputs": [],
   "source": [
    "import pygame\n",
    "\n",
    "\n",
    "class Game:\n",
    "    ...\n",
    "\n",
    "    def __init__(self, width=400, height=300, color=(0, 0, 0)):\n",
    "        ...\n",
    "\n",
    "        self.parentSurface = pygame.display.set_mode(\n",
    "            size=(width, height)\n",
    "        )  # родительское окно\n",
    "        self.parentSurface.fill(color)\n",
    "\n",
    "    @staticmethod\n",
    "    def display_update():...\n",
    "\n",
    "    @staticmethod\n",
    "    def events():...\n",
    "\n",
    "    def window_fill(self):\n",
    "        \"\"\"\n",
    "        Метод при вызове которого заливается родительское окно\n",
    "        :return: None\n",
    "        \"\"\"\n",
    "        self.parentSurface.fill(self.color)  # заливаем родительское окно\n",
    "\n",
    "    def fps_counter(self, FPS=30) -> None:...\n",
    "\n",
    "    def close(self, event) -> None:..."
   ]
  },
  {
   "attachments": {
    "image.png": {
     "image/png": "[encoded data removed]"
    }
   },
   "cell_type": "markdown",
   "metadata": {},
   "source": [
    "# Задание:\n",
    "\n",
    "На основе нашего текущего движка напишите графичeский редактор:\n",
    "\n",
    "![image.png](attachment:image.png)\n",
    "\n",
    "- найдите в event собития которые отвечают за нажатие и отжатие кнопок мыши, а так же событие отвечающее за движение мыши\n",
    "    - найдите ключи событий, которые отвечают за то, какая кнопка мыши была нажата\n",
    "        - если нажата левая кнопка то можно рисовать\n",
    "        - если правая то можно стирать нарисованное\n",
    "        \n",
    "- дополнительно привяжите любую клавишу при нажатии на которую все окно очищается"
   ]
  }
 ],
 "metadata": {
  "kernelspec": {
   "display_name": "Python 3",
   "language": "python",
   "name": "python3"
  },
  "language_info": {
   "codemirror_mode": {
    "name": "ipython",
    "version": 3
   },
   "file_extension": ".py",
   "mimetype": "text/x-python",
   "name": "python",
   "nbconvert_exporter": "python",
   "pygments_lexer": "ipython3",
   "version": "3.7.4"
  }
 },
 "nbformat": 4,
 "nbformat_minor": 2
}

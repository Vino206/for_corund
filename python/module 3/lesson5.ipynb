{
 "cells": [
  {
   "cell_type": "markdown",
   "metadata": {},
   "source": [
    "# Построение движка для игр на pygame - урок 5"
   ]
  },
  {
   "cell_type": "markdown",
   "metadata": {},
   "source": [
    "## Повторение\n",
    "\n",
    "Опишем колизию между персонажем и границами экрана, так что бы персонаж не мог выйти за граници экрана:"
   ]
  },
  {
   "cell_type": "code",
   "execution_count": null,
   "metadata": {},
   "outputs": [],
   "source": [
    "from first_engine.game import Game\n",
    "from first_engine.objects import Object\n",
    "\n",
    "\n",
    "class FirstGame(Game):\n",
    "\n",
    "    def run(self):\n",
    "\n",
    "        hero = Object(parent=self.parentSurface, speed=4)\n",
    "\n",
    "        while self.RUNNER:\n",
    "            self.fps_counter(60)\n",
    "            self.display_update()\n",
    "            self.window_fill()\n",
    "\n",
    "            hero.blit()\n",
    "            hero.motion()\n",
    "            \n",
    "            # тут все очень тривиально\n",
    "            if hero.body.bottom > self.parentBody.bottom: # если низ персонажа ниже нижней части экрана\n",
    "                hero.body.bottom = self.parentBody.bottom # то низ персонажа становится равен низу экрана\n",
    "            elif hero.body.top < self.parentBody.top: # иначе если верх персонажа выше верхней части экрана\n",
    "                hero.body.top = self.parentBody.top # то верх персонажа становится равен верху экрана\n",
    "            if hero.body.right > self.parentBody.right:\n",
    "                hero.body.right = self.parentBody.right # и так далее...\n",
    "            elif hero.body.left < self.parentBody.left:\n",
    "                hero.body.left = self.parentBody.left\n",
    "\n",
    "            for event in self.events():\n",
    "                # print(event)  # отслеживание событий\n",
    "                self.close(event)\n",
    "\n",
    "\n",
    "FirstGame().run()"
   ]
  },
  {
   "cell_type": "markdown",
   "metadata": {},
   "source": [
    "Добавим этот метод в класс __Game__"
   ]
  },
  {
   "cell_type": "code",
   "execution_count": null,
   "metadata": {},
   "outputs": [],
   "source": [
    "\"\"\"\n",
    "Модуль с основным классом-конструктором Game - для создания игры.\n",
    "\"\"\"\n",
    "\n",
    "import pygame\n",
    "\n",
    "\n",
    "class Game:\n",
    "    ...\n",
    "\n",
    "    def __init__(self, width=400, height=300, color=(0, 0, 0)):\n",
    "        ...\n",
    "\n",
    "    @staticmethod\n",
    "    def display_update():\n",
    "        ...\n",
    "\n",
    "    @staticmethod\n",
    "    def events():\n",
    "        ...\n",
    "\n",
    "    def window_fill(self):\n",
    "        ...\n",
    " \n",
    "    def fps_counter(self, FPS=30) -> None:\n",
    "        ...\n",
    "\n",
    "    def close(self, event) -> None:\n",
    "        ...\n",
    "\n",
    "    def window_borders(self, obj): # экран преграждает путь какому либо объекту, что бы он не вышел за границы\n",
    "        if obj.body.bottom > self.parentBody.bottom:\n",
    "            obj.body.bottom = self.parentBody.bottom\n",
    "        elif obj.body.top < self.parentBody.top:\n",
    "            obj.body.top = self.parentBody.top\n",
    "        if obj.body.right > self.parentBody.right:\n",
    "            obj.body.right = self.parentBody.right\n",
    "        elif obj.body.left < self.parentBody.left:\n",
    "            obj.body.left = self.parentBody.left"
   ]
  },
  {
   "cell_type": "markdown",
   "metadata": {},
   "source": [
    "Обработать выход одного объекта за пределы другого не сложно, но что если, мы хотим, что бы 2 объекта не могли между собой пересечься?\n",
    "\n",
    "Давайте попробуем:"
   ]
  },
  {
   "cell_type": "code",
   "execution_count": null,
   "metadata": {},
   "outputs": [],
   "source": [
    "from first_engine.game import Game\n",
    "from first_engine.objects import Object\n",
    "\n",
    "\n",
    "class FirstGame(Game):\n",
    "\n",
    "    def run(self):\n",
    "\n",
    "        hero = Object(parent=self.parentSurface, speed=4) # создаем перса\n",
    "        wall = Object(self.parentSurface, \n",
    "                      x=200, y=100, width=100, height=100, \n",
    "                      color=(255, 100, 100)) # создаем преграду\n",
    "\n",
    "        while self.RUNNER:\n",
    "            self.fps_counter(60)\n",
    "            self.display_update()\n",
    "            self.window_fill()\n",
    "\n",
    "            hero.blit() # отрисовываем героя\n",
    "            hero.motion() # даем ему возможность перемещаться\n",
    "\n",
    "            wall.blit() # отрисовываем преграду\n",
    "\n",
    "            if hero.body.right > wall.body.left: # если правая часть перса нахобится дальше левой части преграды\n",
    "                hero.body.right = wall.body.left # то правая часть перса становится равна левой части преграды\n",
    "\n",
    "            for event in self.events():\n",
    "                # print(event)\n",
    "                self.close(event)\n",
    "\n",
    "\n",
    "FirstGame().run()"
   ]
  },
  {
   "cell_type": "markdown",
   "metadata": {},
   "source": [
    "Можно было бы продолжить, но здесь мы столкнулись с проблемой, герой вообще не может перейти дальше левой части преграды даже если поднимется выше или ниже преграды\n",
    "\n",
    "Здесь нам нужно обрабатывать колизию между двумя созданными объектами, то есть, когда 1 объект входит в тело другого, то мы получаем сигнал и только после этого обрабатываем свойство преграды\n",
    "\n",
    "# Задание\n",
    "\n",
    "Постройте логику так, что бы  исправить баг с невидимой преградой"
   ]
  }
 ],
 "metadata": {
  "kernelspec": {
   "display_name": "Python 3",
   "language": "python",
   "name": "python3"
  },
  "language_info": {
   "codemirror_mode": {
    "name": "ipython",
    "version": 3
   },
   "file_extension": ".py",
   "mimetype": "text/x-python",
   "name": "python",
   "nbconvert_exporter": "python",
   "pygments_lexer": "ipython3",
   "version": "3.7.4"
  }
 },
 "nbformat": 4,
 "nbformat_minor": 2
}

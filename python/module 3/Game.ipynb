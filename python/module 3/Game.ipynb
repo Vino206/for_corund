{
 "cells": [
  {
   "cell_type": "markdown",
   "metadata": {},
   "source": [
    "# Построение движка игры на pygame"
   ]
  },
  {
   "cell_type": "markdown",
   "metadata": {},
   "source": [
    "## 1. Общий план\n",
    "\n",
    "Мы разобъем наш движок на несколько файлов примерно со следующими названиями: \n",
    "- characters.py\n",
    "- weapon.py\n",
    "- objects.py\n",
    "- interface.py\n",
    "\n",
    "В них мы будем проектировать различные игровые объекты, расширять их и добавлять новые.<br>\n",
    "Но для создания собственной игры мы создадим отдельный файл __game.py__"
   ]
  },
  {
   "cell_type": "markdown",
   "metadata": {},
   "source": [
    "## 2. Подготовка к работе\n",
    "\n",
    "Установим библиотеку для написание 2D игр - __pygame__<br>\n",
    "Для этогов в __консоли__ pycharm пропишем:"
   ]
  },
  {
   "cell_type": "code",
   "execution_count": 1,
   "metadata": {},
   "outputs": [
    {
     "name": "stdout",
     "output_type": "stream",
     "text": [
      "Collecting pygame\n",
      "  Using cached https://files.pythonhosted.org/packages/9a/99/74ff08a397530af1e48640a5394af2e3df4fd4f720e221a3e45637485337/pygame-2.0.1-cp37-cp37m-win_amd64.whl\n",
      "Installing collected packages: pygame\n",
      "Successfully installed pygame-2.0.1\n"
     ]
    }
   ],
   "source": [
    "# !pip install pygame"
   ]
  },
  {
   "cell_type": "markdown",
   "metadata": {},
   "source": [
    "__pygame__ - библиотека для написания 2D игр, она достаточно низкоуровневая для того, что бы на ее примере мы потренировались писать движок, для создания различных 2D игр.<br>\n",
    "Больше информации по __pygame__ можно просмотреть по ссылке: https://www.pygame.org/news\n",
    "\n",
    "Далее, создадим сразу наш: \n",
    "- __game.py__ - здась мы будем выкладывать рабочую версию игры \n",
    "- и __test.py__ - он нам нужен для тестирования механики работы игры"
   ]
  },
  {
   "cell_type": "markdown",
   "metadata": {},
   "source": [
    "## 3. Основная структура игры\n",
    "\n",
    "Зайдем в наш __test.py__<br>\n",
    "Импортируем сюда библиотеку __pygame__"
   ]
  },
  {
   "cell_type": "code",
   "execution_count": 1,
   "metadata": {},
   "outputs": [
    {
     "name": "stdout",
     "output_type": "stream",
     "text": [
      "pygame 2.0.1 (SDL 2.0.14, Python 3.7.4)\n",
      "Hello from the pygame community. https://www.pygame.org/contribute.html\n"
     ]
    }
   ],
   "source": [
    "import pygame"
   ]
  },
  {
   "cell_type": "markdown",
   "metadata": {},
   "source": [
    "Вся игра проецируется внутри родительского окна"
   ]
  },
  {
   "cell_type": "code",
   "execution_count": 2,
   "metadata": {},
   "outputs": [],
   "source": [
    "parentSurface = pygame.display.set_mode(\n",
    "    size=(400, 200) # size - размер, где первое число - ширина, второе высота окна\n",
    ") # метод для создания родительского окна"
   ]
  },
  {
   "attachments": {
    "image.png": {
     "image/png": "[encoded data removed]"
    }
   },
   "cell_type": "markdown",
   "metadata": {},
   "source": [
    "![image.png](attachment:image.png)\n",
    "\n",
    "При первом запуске родительского окна оно зависает, а у нас вылетает ошибка в консоли<br>\n",
    "Это происходит потому что родительское окно производит какие то события и поэтому должно обновляться для нормального функционирования<br>\n",
    "Для этого нам нужно создать бесконечный цикл в котором будем отслеживать эти события"
   ]
  },
  {
   "cell_type": "code",
   "execution_count": 1,
   "metadata": {},
   "outputs": [
    {
     "name": "stdout",
     "output_type": "stream",
     "text": [
      "pygame 2.0.1 (SDL 2.0.14, Python 3.7.4)\n",
      "Hello from the pygame community. https://www.pygame.org/contribute.html\n"
     ]
    },
    {
     "ename": "KeyboardInterrupt",
     "evalue": "",
     "output_type": "error",
     "traceback": [
      "\u001b[1;31m---------------------------------------------------------------------------\u001b[0m",
      "\u001b[1;31mKeyboardInterrupt\u001b[0m                         Traceback (most recent call last)",
      "\u001b[1;32m<ipython-input-1-82b90fd252f0>\u001b[0m in \u001b[0;36m<module>\u001b[1;34m\u001b[0m\n\u001b[0;32m      6\u001b[0m \u001b[1;33m\u001b[0m\u001b[0m\n\u001b[0;32m      7\u001b[0m \u001b[1;32mwhile\u001b[0m \u001b[1;32mTrue\u001b[0m\u001b[1;33m:\u001b[0m \u001b[1;31m# игровой цикл\u001b[0m\u001b[1;33m\u001b[0m\u001b[1;33m\u001b[0m\u001b[0m\n\u001b[1;32m----> 8\u001b[1;33m     \u001b[1;32mfor\u001b[0m \u001b[0mevent\u001b[0m \u001b[1;32min\u001b[0m \u001b[0mpygame\u001b[0m\u001b[1;33m.\u001b[0m\u001b[0mevent\u001b[0m\u001b[1;33m.\u001b[0m\u001b[0mget\u001b[0m\u001b[1;33m(\u001b[0m\u001b[1;33m)\u001b[0m\u001b[1;33m:\u001b[0m \u001b[1;31m# отслеживание событий\u001b[0m\u001b[1;33m\u001b[0m\u001b[1;33m\u001b[0m\u001b[0m\n\u001b[0m\u001b[0;32m      9\u001b[0m         \u001b[1;32mpass\u001b[0m \u001b[1;31m# заглушка\u001b[0m\u001b[1;33m\u001b[0m\u001b[1;33m\u001b[0m\u001b[0m\n",
      "\u001b[1;31mKeyboardInterrupt\u001b[0m: "
     ]
    }
   ],
   "source": [
    "import pygame\n",
    "\n",
    "parentSurface = pygame.display.set_mode(\n",
    "    size=(400, 200) # size - размер, где первое число - ширина, второе высота окна\n",
    ") # метод для создания родительского окна\n",
    "\n",
    "while True: # игровой цикл\n",
    "    for event in pygame.event.get(): # отслеживание событий\n",
    "        pass # заглушка"
   ]
  },
  {
   "attachments": {
    "image.png": {
     "image/png": "[encoded data removed]"
    }
   },
   "cell_type": "markdown",
   "metadata": {},
   "source": [
    "![image.png](attachment:image.png)\n",
    "\n",
    "Теперь наше окно не зависает однако мы не можем его нормально выключить - приходится отключать __интерпритатор__ вручную - исправим это<br>\n",
    "Для этого мы проделаем следующие операции:\n",
    "- деинициализируем pygame\n",
    "- остановим главный цикл\n",
    "\n",
    "Для начало посмотрим, какие вообще __собирия__ происходят внутри родительского окна - добавим __print__"
   ]
  },
  {
   "cell_type": "code",
   "execution_count": 1,
   "metadata": {},
   "outputs": [
    {
     "name": "stdout",
     "output_type": "stream",
     "text": [
      "pygame 2.0.1 (SDL 2.0.14, Python 3.7.4)\n",
      "Hello from the pygame community. https://www.pygame.org/contribute.html\n",
      "<Event(32774-WindowShown {'window': None})>\n",
      "<Event(32768-ActiveEvent {'gain': 1, 'state': 1})>\n",
      "<Event(32785-WindowFocusGained {'window': None})>\n",
      "<Event(770-TextEditing {'text': '', 'start': 0, 'length': 0, 'window': None})>\n",
      "<Event(32770-VideoExpose {})>\n",
      "<Event(32776-WindowExposed {'window': None})>\n",
      "<Event(770-TextEditing {'text': '', 'start': 0, 'length': 0, 'window': None})>\n",
      "<Event(770-TextEditing {'text': '', 'start': 0, 'length': 0, 'window': None})>\n",
      "<Event(770-TextEditing {'text': '', 'start': 0, 'length': 0, 'window': None})>\n",
      "<Event(772-Unknown {})>\n",
      "<Event(32770-VideoExpose {})>\n",
      "<Event(32776-WindowExposed {'window': None})>\n",
      "<Event(768-KeyDown {'unicode': '\\x1b', 'key': 27, 'mod': 4096, 'scancode': 41, 'window': None})>\n",
      "<Event(769-KeyUp {'unicode': '\\x1b', 'key': 27, 'mod': 4096, 'scancode': 41, 'window': None})>\n",
      "<Event(32787-WindowClose {'window': None})>\n",
      "<Event(256-Quit {})>\n",
      "<Event(32768-ActiveEvent {'gain': 0, 'state': 1})>\n",
      "<Event(32786-WindowFocusLost {'window': None})>\n",
      "<Event(770-TextEditing {'text': '', 'start': 0, 'length': 0, 'window': None})>\n"
     ]
    },
    {
     "ename": "KeyboardInterrupt",
     "evalue": "",
     "output_type": "error",
     "traceback": [
      "\u001b[1;31m---------------------------------------------------------------------------\u001b[0m",
      "\u001b[1;31mKeyboardInterrupt\u001b[0m                         Traceback (most recent call last)",
      "\u001b[1;32m<ipython-input-1-c5252ace03c3>\u001b[0m in \u001b[0;36m<module>\u001b[1;34m\u001b[0m\n\u001b[0;32m      6\u001b[0m \u001b[1;33m\u001b[0m\u001b[0m\n\u001b[0;32m      7\u001b[0m \u001b[1;32mwhile\u001b[0m \u001b[1;32mTrue\u001b[0m\u001b[1;33m:\u001b[0m \u001b[1;31m# игровой цикл\u001b[0m\u001b[1;33m\u001b[0m\u001b[1;33m\u001b[0m\u001b[0m\n\u001b[1;32m----> 8\u001b[1;33m     \u001b[1;32mfor\u001b[0m \u001b[0mevent\u001b[0m \u001b[1;32min\u001b[0m \u001b[0mpygame\u001b[0m\u001b[1;33m.\u001b[0m\u001b[0mevent\u001b[0m\u001b[1;33m.\u001b[0m\u001b[0mget\u001b[0m\u001b[1;33m(\u001b[0m\u001b[1;33m)\u001b[0m\u001b[1;33m:\u001b[0m \u001b[1;31m# отслеживание событий\u001b[0m\u001b[1;33m\u001b[0m\u001b[1;33m\u001b[0m\u001b[0m\n\u001b[0m\u001b[0;32m      9\u001b[0m         \u001b[0mprint\u001b[0m\u001b[1;33m(\u001b[0m\u001b[0mevent\u001b[0m\u001b[1;33m)\u001b[0m\u001b[1;33m\u001b[0m\u001b[1;33m\u001b[0m\u001b[0m\n",
      "\u001b[1;31mKeyboardInterrupt\u001b[0m: "
     ]
    }
   ],
   "source": [
    "import pygame\n",
    "\n",
    "parentSurface = pygame.display.set_mode(\n",
    "    size=(400, 200) # size - размер, где первое число - ширина, второе высота окна\n",
    ") # метод для создания родительского окна\n",
    "\n",
    "while True: # игровой цикл\n",
    "    for event in pygame.event.get(): # отслеживание событий\n",
    "        print(event)"
   ]
  },
  {
   "cell_type": "markdown",
   "metadata": {},
   "source": [
    "Здесь мы увидели множество собитий лишь пока запускати и пытились выключить окно - нажимая при этом на клавишу __ESC__ и на __крестик__ - они так же отслеживались к вонсоли, найдем эти события <br>\n",
    "\n",
    "Первыым было нажатие на __ESC__: <br>\n",
    "<Event(768-KeyDown {'unicode': '\\x1b', 'key': 27, 'mod': 4096, 'scancode': 41, 'window': None})>\n",
    "\n",
    "Вторым на __крестик__: <br>\n",
    "<Event(256-Quit {})> <br>\n",
    "\n",
    "Давайте обработаем эти события так, что бы они помогали нам закрывать окно"
   ]
  },
  {
   "cell_type": "code",
   "execution_count": 3,
   "metadata": {},
   "outputs": [],
   "source": [
    "import pygame\n",
    "\n",
    "parentSurface = pygame.display.set_mode(\n",
    "    size=(400, 200)\n",
    ")\n",
    "\n",
    "run = True # добавим переменную для управлением цикла внутри него\n",
    "while run: # вставим переменную в цикл\n",
    "    \n",
    "    for event in pygame.event.get():\n",
    "        \n",
    "        if event.type == 256 or (event.type == 768 and event.key == 27): # если нажал крестик или ESC\n",
    "            \n",
    "            pygame.quit() # деинициализируем pygame\n",
    "            run = False   # отключаем цикл"
   ]
  },
  {
   "cell_type": "markdown",
   "metadata": {},
   "source": [
    "Ну вот и все - основа у нас есть<br>\n",
    "Отправим ее в __game.py__ и займемся наполнением"
   ]
  },
  {
   "cell_type": "markdown",
   "metadata": {},
   "source": [
    "##  4. Создание объектов\n",
    "\n",
    "Первый объект это собственно сама игра <br>\n",
    "Наш код будет разрастаться, будут добавляться дополнительные методы, поэтому сразу перенесем его на рельсы ООП и будем описывать документацию - в будущем нам это ооочень поможет)"
   ]
  },
  {
   "cell_type": "code",
   "execution_count": 1,
   "metadata": {},
   "outputs": [
    {
     "name": "stdout",
     "output_type": "stream",
     "text": [
      "pygame 2.0.1 (SDL 2.0.14, Python 3.7.4)\n",
      "Hello from the pygame community. https://www.pygame.org/contribute.html\n"
     ]
    }
   ],
   "source": [
    "\"\"\"\n",
    "Модуль самой игры.\n",
    "Он содержит в себе класс Game - в котором проектируется сама игра\n",
    "\"\"\"\n",
    "\n",
    "import pygame\n",
    "\n",
    "\n",
    "class Game:\n",
    "    \"\"\"\n",
    "    Класс игры, здесь праектируется пример игры\n",
    "    \"\"\"\n",
    "\n",
    "    def __init__(self, width=400, height=300):\n",
    "        \"\"\"\n",
    "        :parameter width: высота окна\n",
    "        :parameter height: ширина окна\n",
    "        \"\"\"\n",
    "        parentSurface = pygame.display.set_mode(\n",
    "            size=(width, height)\n",
    "        )  # родительское окно\n",
    "\n",
    "    @staticmethod\n",
    "    def run() -> None:\n",
    "        \"\"\"\n",
    "        Статический метод для управления родительским окном\n",
    "        :return:\n",
    "        \"\"\"\n",
    "\n",
    "        running = True\n",
    "        while running:\n",
    "            for event in pygame.event.get():\n",
    "                if event.type == 256 or (event.type == 768 and event.key == 27):  # если нажал крестик или ESC\n",
    "                    pygame.quit()  # деинициализируем pygame\n",
    "                    running = False  # отключаем цикл\n",
    "\n",
    "\n",
    "Game().run()"
   ]
  },
  {
   "cell_type": "code",
   "execution_count": null,
   "metadata": {},
   "outputs": [],
   "source": []
  }
 ],
 "metadata": {
  "kernelspec": {
   "display_name": "Python 3",
   "language": "python",
   "name": "python3"
  },
  "language_info": {
   "codemirror_mode": {
    "name": "ipython",
    "version": 3
   },
   "file_extension": ".py",
   "mimetype": "text/x-python",
   "name": "python",
   "nbconvert_exporter": "python",
   "pygments_lexer": "ipython3",
   "version": "3.7.4"
  }
 },
 "nbformat": 4,
 "nbformat_minor": 2
}

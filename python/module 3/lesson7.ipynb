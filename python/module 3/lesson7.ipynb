{
 "cells": [
  {
   "cell_type": "markdown",
   "metadata": {},
   "source": [
    "# Построение движка для игр на pygame - урок 6"
   ]
  },
  {
   "cell_type": "markdown",
   "metadata": {},
   "source": [
    "## Повторение\n",
    "\n",
    "После написания первой игры мы можем заметить, что появилось множество методов, вначале цикла которые нам приходится постоянно объявлять в правильном порядке:"
   ]
  },
  {
   "cell_type": "code",
   "execution_count": 4,
   "metadata": {},
   "outputs": [],
   "source": [
    "from first_engine.game import Game\n",
    "from first_engine.objects import Object\n",
    "\n",
    "\n",
    "class FirstGame(Game):\n",
    "\n",
    "    def run(self):\n",
    "        hero = Object(parent=self.surface, speed=4, x=100, y=100)\n",
    "        game_over = False\n",
    "\n",
    "        while self.RUNNER:\n",
    "            if not game_over:\n",
    "                self.fps_counter(60)\n",
    "                self.window_borders(objects=[hero])\n",
    "                self.display_update()\n",
    "                self.window_fill()\n",
    "\n",
    "                hero.blit()\n",
    "                hero.motion_control()\n",
    "\n",
    "            for event in self.events():\n",
    "                # print(event)  # отслеживание событий\n",
    "                self.close(event)\n",
    "\n",
    "\n",
    "FirstGame(width=400, height=400).run()"
   ]
  },
  {
   "cell_type": "markdown",
   "metadata": {},
   "source": [
    "Давайте объединим их в один метод __cycle_init()__"
   ]
  },
  {
   "cell_type": "code",
   "execution_count": null,
   "metadata": {},
   "outputs": [],
   "source": [
    "\"\"\"\n",
    "Модуль с основным классом-конструктором Game - для создания игры.\n",
    "\"\"\"\n",
    "\n",
    "import pygame\n",
    "\n",
    "\n",
    "class Game:\n",
    "    ...\n",
    "\n",
    "    def __init__(self, width=400, height=300, color=(0, 0, 0)): ...\n",
    "\n",
    "    @staticmethod\n",
    "    def display_update(): ...\n",
    "\n",
    "    @staticmethod\n",
    "    def events(): ...\n",
    "\n",
    "    def window_fill(self): ...\n",
    "\n",
    "    def fps_counter(self, FPS=30) -> None: ...\n",
    "\n",
    "    def close(self, event) -> None: ...\n",
    "\n",
    "    def window_borders(self, objects): ...\n",
    "\n",
    "    def cycle_init(self, objects: list = None, FPS=30):\n",
    "        \"\"\"\n",
    "        Метод объединяющий в себе все необходимые методы инициализирующие работу главного цикла\n",
    "        \"\"\"\n",
    "        self.fps_counter(FPS)\n",
    "        if objects:\n",
    "            self.window_borders(objects=objects)\n",
    "        self.display_update()\n",
    "        self.window_fill()"
   ]
  },
  {
   "cell_type": "markdown",
   "metadata": {},
   "source": [
    "Теперь стартовый код будет выглядеть так:"
   ]
  },
  {
   "cell_type": "code",
   "execution_count": 1,
   "metadata": {},
   "outputs": [
    {
     "name": "stdout",
     "output_type": "stream",
     "text": [
      "pygame 2.0.1 (SDL 2.0.14, Python 3.7.4)\n",
      "Hello from the pygame community. https://www.pygame.org/contribute.html\n"
     ]
    }
   ],
   "source": [
    "from first_engine.game import Game\n",
    "from first_engine.objects import Object\n",
    "\n",
    "\n",
    "class FirstGame(Game):\n",
    "\n",
    "    def run(self):\n",
    "        \n",
    "        # Здесь описываем переменные и объекты\n",
    "        \n",
    "        game_over = False\n",
    "        while self.RUNNER:\n",
    "            if not game_over:\n",
    "                self.cycle_init()\n",
    "                \n",
    "                # Здесь описываем логику игры\n",
    "\n",
    "            for event in self.events():\n",
    "                # print(event)  # отслеживание событий\n",
    "                self.close(event)\n",
    "\n",
    "\n",
    "FirstGame().run()"
   ]
  },
  {
   "cell_type": "markdown",
   "metadata": {},
   "source": [
    "Так же на основе нашей первой игры мы поняли, что нужно назначать координаты объектов отдельно, а распологать объект по этим координатам отдельно, поэтому изменим метод __motion()__ на метод __replace()__ и модифицируем его, а так же в методе __motion_control()__ внесем изменения:"
   ]
  },
  {
   "cell_type": "code",
   "execution_count": null,
   "metadata": {},
   "outputs": [],
   "source": [
    "import pygame\n",
    "\n",
    "\n",
    "class Object:\n",
    "\n",
    "    def __init__(self, parent: pygame.Surface,\n",
    "                 width=40, height=40, x=0, y=0,\n",
    "                 color=(255, 255, 255),\n",
    "                 speed=1): ...\n",
    "\n",
    "    def blit(self): ...\n",
    "\n",
    "    def recolor(self, color): ...\n",
    "\n",
    "    def __diagonal_speed(self): ...\n",
    "\n",
    "    def replace(self, x=None, y=None): # раньще был motion()\n",
    "        if x: # добавим эти условия, что бы можно было назначать произвольное положение объектов, если понадобится\n",
    "            self.x = x\n",
    "        if y:\n",
    "            self.y = y\n",
    "\n",
    "        self.body.x, self.body.y = self.x, self.y\n",
    "\n",
    "    def motion_control(self):\n",
    "        left = pygame.key.get_pressed()[97]\n",
    "        right = pygame.key.get_pressed()[100]\n",
    "        up = pygame.key.get_pressed()[119]\n",
    "        down = pygame.key.get_pressed()[115]\n",
    "\n",
    "        speed = self.__diagonal_speed() if (left + right + up + down) > 1 else self.speed\n",
    "        \n",
    "        # так как тело округляет свои координаты в меньшую сторону,\n",
    "        # если ему присваивается число с плавающей точкой, то мы будим прибавлять 1 к скорости\n",
    "        self.x += right * (speed + 1) if speed % 1 != 0 else right * speed\n",
    "        self.y += down * (speed + 1) if speed % 1 != 0 else down * speed\n",
    "        self.x -= left * speed\n",
    "        self.y -= up * speed\n",
    "\n",
    "        self.replace() # здась заменяем motion() на replace()\n",
    "        return -left * speed, right * speed, -up * speed, down * speed # возвращаем скорость для каждого направления движения \n",
    "\n",
    "    def change_speed(self, speed): ..."
   ]
  },
  {
   "cell_type": "markdown",
   "metadata": {},
   "source": [
    "## Загрузка спрайтов\n",
    "\n",
    "Начнем с загрузки фона.\n",
    "\n",
    "Сначало просмотрим, что из себя представляет само окно, скин персонажей и все что мы можем увидеть глазами. Для этого залезем в документацию метода для создания окон."
   ]
  },
  {
   "cell_type": "code",
   "execution_count": null,
   "metadata": {},
   "outputs": [],
   "source": [
    "pygame.display.set_mode"
   ]
  },
  {
   "cell_type": "code",
   "execution_count": null,
   "metadata": {},
   "outputs": [],
   "source": [
    "def set_mode(\n",
    "    size: Optional[Union[Tuple[int, int], Sequence[int]]],\n",
    "    flags: Optional[int] = 0,\n",
    "    depth: Optional[int] = 0,\n",
    "    display: Optional[int] = 0,\n",
    "    vsync: Optional[int] = 0\n",
    ") -> Surface: ..."
   ]
  },
  {
   "cell_type": "markdown",
   "metadata": {},
   "source": [
    "Здесь мы можем видеть все аргументы данного метода, у каждого аргумента есть небольшое описание, например мы можем видеть, что здесь все аргументы принимают целое число.\n",
    "\n",
    "Так же можно видеть, что все аргументы, кроме первого, имеют значения по умолчанию. Что за что отвечают эти аргументы, можно узнать из интернета, или эмпирическим путем.\n",
    "\n",
    "Так же, в конце метода, мы можем видеть стрелку -> Surface - это то, что нас сейчас интересует. Это класс - покрытие - это и есть, что мы видем. Мы его уже использовали, что бы создать скин для внутреигровых объектов."
   ]
  },
  {
   "cell_type": "code",
   "execution_count": null,
   "metadata": {},
   "outputs": [],
   "source": [
    "pygame.Surface(size=(width, height))"
   ]
  },
  {
   "cell_type": "markdown",
   "metadata": {},
   "source": [
    "Этот класс имеет соответствующие методы, если мы увидем его еще в каких нибудь методах, то будем знать, как его можно использовать.\n",
    "\n",
    "Теперь рассмотрим метод для загрузки картинок."
   ]
  },
  {
   "cell_type": "code",
   "execution_count": null,
   "metadata": {},
   "outputs": [],
   "source": [
    "from first_engine.game import Game\n",
    "from first_engine.objects import Object\n",
    "import pygame.image\n",
    "\n",
    "\n",
    "class FirstGame(Game):\n",
    "\n",
    "    def run(self):\n",
    "        back_ground = pygame.image.load('./forest.jpg') # метод, для загрузки картинок -> Surfase\n",
    "\n",
    "        game_over = False\n",
    "        while self.RUNNER:\n",
    "            if not game_over:\n",
    "                self.cycle_init(objects=[hero], FPS=60)\n",
    "                \n",
    "                # мы знаем что метод для загрузки картинок возвращает Surfase\n",
    "                self.surface.blit(back_ground, (0, 0)) # это значит, что мы можем картинкой просто залить фон\n",
    "\n",
    "            for event in self.events():\n",
    "                # print(event)  # отслеживание событий\n",
    "                self.close(event)\n",
    "\n",
    "\n",
    "FirstGame().run()"
   ]
  }
 ],
 "metadata": {
  "kernelspec": {
   "display_name": "Python 3",
   "language": "python",
   "name": "python3"
  },
  "language_info": {
   "codemirror_mode": {
    "name": "ipython",
    "version": 3
   },
   "file_extension": ".py",
   "mimetype": "text/x-python",
   "name": "python",
   "nbconvert_exporter": "python",
   "pygments_lexer": "ipython3",
   "version": "3.7.4"
  }
 },
 "nbformat": 4,
 "nbformat_minor": 2
}

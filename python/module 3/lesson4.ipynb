{
 "cells": [
  {
   "cell_type": "markdown",
   "metadata": {},
   "source": [
    "# Построение движка для игр на pygame - урок 4"
   ]
  },
  {
   "cell_type": "markdown",
   "metadata": {},
   "source": [
    "## Повторение\n",
    "\n",
    "Нам нужно было проверить новый класс __Object__ на новой рисовалки:"
   ]
  },
  {
   "cell_type": "code",
   "execution_count": 2,
   "metadata": {},
   "outputs": [],
   "source": [
    "from first_engine.game import Game\n",
    "from first_engine.objects import Object\n",
    "\n",
    "\n",
    "class FirstGame(Game):\n",
    "\n",
    "    def run(self):\n",
    "\n",
    "        draw = False\n",
    "        w, h = 5, 5\n",
    "        brash = Object(parent=self.surface, width=w, height=w)\n",
    "\n",
    "        while self.RUNNER:\n",
    "            self.fps_counter(60000)\n",
    "            self.display_update()\n",
    "\n",
    "            for event in self.events():\n",
    "#                 print(event)  # отслеживание событий\n",
    "\n",
    "                if event.type == 1025:\n",
    "                    draw = True\n",
    "                    if event.button == 1:\n",
    "                        brash.color = (255, 255, 255)\n",
    "                        brash.body.center = event.pos\n",
    "                        brash.blit()\n",
    "                    elif event.button == 3:\n",
    "                        brash.color = self.color\n",
    "                        brash.body.center = event.pos\n",
    "                        brash.blit()\n",
    "                elif event.type == 1026:\n",
    "                    draw = False\n",
    "\n",
    "                if draw and event.type == 1024:\n",
    "                    brash.body.center = event.pos\n",
    "                    brash.blit()\n",
    "\n",
    "                if event.type == 1027:\n",
    "                    w += event.y\n",
    "                    h += event.y\n",
    "                    if w < 1 or h < 1:\n",
    "                        w, h = 1, 1\n",
    "                    brash = Object(parent=self.surface, width=w, height=h)\n",
    "\n",
    "                if event.type == 768 and event.key == 99:\n",
    "                    self.window_fill()\n",
    "\n",
    "                self.close(event)\n",
    "\n",
    "\n",
    "FirstGame().run()"
   ]
  },
  {
   "attachments": {
    "image.png": {
     "image/png": "[encoded data removed]"
    }
   },
   "cell_type": "markdown",
   "metadata": {},
   "source": [
    "![image.png](attachment:image.png)\n",
    "\n",
    "Здесь проблема в том, что мы не можем стирать на маус 2, так как мы задаем цвет кисти только на этапе её создания.<br>\n",
    "Поэтому мы будем переназначать цвет при нажатии на кнопки, при помощи дополнительного метода."
   ]
  },
  {
   "cell_type": "code",
   "execution_count": 3,
   "metadata": {},
   "outputs": [],
   "source": [
    "import pygame\n",
    "\n",
    "class Object:\n",
    "\n",
    "    def __init__(self, parent: pygame.Surface,\n",
    "                 width=40, height=40, x=0, y=0,\n",
    "                 color=(255, 255, 255)):\n",
    "        self.parent = parent\n",
    "        self.color = color # выделим для цвета отдельную переменную\n",
    "\n",
    "        self.skin = pygame.Surface(size=(width, height))\n",
    "        self.body = self.skin.get_rect(topleft=(x, y))\n",
    "\n",
    "    def blit(self):\n",
    "        self.parent.blit(source=self.skin, dest=self.body)\n",
    "        \n",
    "    def recolor(self, color):\n",
    "        self.skin.fill(color=color) # это метод на случай если мы захотим поменять цвет объекта"
   ]
  },
  {
   "attachments": {
    "image.png": {
     "image/png": "[encoded data removed]"
    }
   },
   "cell_type": "markdown",
   "metadata": {},
   "source": [
    "![image.png](attachment:image.png)"
   ]
  },
  {
   "cell_type": "markdown",
   "metadata": {},
   "source": [
    "# Клава-мышь\n",
    "\n",
    "До сих пор мы делали сложну конструкцию для управлекния персонажем:"
   ]
  },
  {
   "cell_type": "code",
   "execution_count": 4,
   "metadata": {},
   "outputs": [],
   "source": [
    "from first_engine.game import Game\n",
    "from first_engine.objects import Object\n",
    "import pygame\n",
    "\n",
    "\n",
    "class FirstGame(Game):\n",
    "\n",
    "    def run(self):\n",
    "\n",
    "        char = Object(self.surface, x=100, y=100)\n",
    "        speed_x, speed_y = 0, 0 # скорость по x и y\n",
    "\n",
    "        while self.RUNNER:\n",
    "            self.fps_counter()\n",
    "            self.display_update()\n",
    "            self.window_fill()\n",
    "\n",
    "            char.blit()\n",
    "\n",
    "            char.body.x += speed_x # постоянно прибавляем скорость по x\n",
    "            char.body.y += speed_y # постоянно прибавляем скорость по y\n",
    "\n",
    "            for event in self.events():\n",
    "#                 print(event)  # отслеживание событий\n",
    "                \n",
    "                if event.type == 768: # а этом блоке изметяем скорость от -1 до 1, для х и у, при нажати\n",
    "                    if event.key == 100:\n",
    "                        speed_x = 1\n",
    "                    if event.key == 97:\n",
    "                        speed_x = -1\n",
    "                    if event.key == 119:\n",
    "                        speed_y = -1\n",
    "                    if event.key == 115:\n",
    "                        speed_y = 1\n",
    "                if event.type == 769: # а этом блоке изметяем скорость до 0, для х и у, при отжатии\n",
    "                    if event.key == 100:\n",
    "                        speed_x = 0\n",
    "                    if event.key == 97:\n",
    "                        speed_x = 0\n",
    "                    if event.key == 119:\n",
    "                        speed_y = 0\n",
    "                    if event.key == 115:\n",
    "                        speed_y = 0\n",
    "\n",
    "                self.close(event)\n",
    "\n",
    "\n",
    "FirstGame().run()"
   ]
  },
  {
   "cell_type": "markdown",
   "metadata": {},
   "source": [
    "#### Здесь происходит следующее:\n",
    "\n",
    "Дело в том что __event__ отслеживает только факт начатия и отжатие клавищи, то есть мы можем заставить двигаться перса при каждом нажатии или отжатии - __мы не можем напрямую отслежваться факт зажатия клавиши!__ Поэтому вы делаем буферную переменную __speed__ поторая принимает на себя новое значенгие при каждом нажатии или отжати клавиши, а потом текущее значение прибавляет к координатам перса, идея красивая, но работает не оптимально, конечно мы можем завернуть это в очередной метод класса Game и уменьшить код таким образом мы как бы эмулируем зажатие, но - это кастыль!\n",
    "\n",
    "Но даже сдесь еще нужно дорабатывать код, так как иногда при быстром переключении клавишь персонаж может застривать\n",
    "\n",
    "На самом деле у pygame уже есть метод для отслеживания зажатий, давайте его рассмотрим:"
   ]
  },
  {
   "cell_type": "code",
   "execution_count": 6,
   "metadata": {},
   "outputs": [],
   "source": [
    "from first_engine.game import Game\n",
    "import pygame\n",
    "\n",
    "\n",
    "class FirstGame(Game):\n",
    "\n",
    "    def run(self):\n",
    "\n",
    "        while self.RUNNER:\n",
    "\n",
    "            print(pygame.key.get_pressed()) # отслеживание зажатых клавишь\n",
    "\n",
    "            for event in self.events():\n",
    "                self.close(event)\n",
    "\n",
    "\n",
    "FirstGame().run()"
   ]
  },
  {
   "cell_type": "markdown",
   "metadata": {},
   "source": [
    "Здесь нам будет выводиться огромный вектор нулей, которые будут менять свои значения на 1 при нажатии и зажатии клавишь и 0 при отжатии клавиши<br>\n",
    "Понимая это мы можем сделать так:"
   ]
  },
  {
   "cell_type": "code",
   "execution_count": 7,
   "metadata": {},
   "outputs": [],
   "source": [
    "from first_engine.game import Game\n",
    "from first_engine.objects import Object\n",
    "import pygame\n",
    "\n",
    "\n",
    "class FirstGame(Game):\n",
    "\n",
    "    def run(self):\n",
    "\n",
    "        char = Object(self.surface, x=100, y=100)\n",
    "\n",
    "        while self.RUNNER:\n",
    "            self.fps_counter()\n",
    "            self.display_update()\n",
    "            self.window_fill()\n",
    "\n",
    "            char.blit()\n",
    "\n",
    "            char.body.x += pygame.key.get_pressed()[100]\n",
    "            char.body.x -= pygame.key.get_pressed()[97]\n",
    "            char.body.y += pygame.key.get_pressed()[115]\n",
    "            char.body.y -= pygame.key.get_pressed()[119]\n",
    "\n",
    "            for event in self.events():\n",
    "                # print(event)  # отслеживание событий\n",
    "\n",
    "                self.close(event)\n",
    "\n",
    "\n",
    "FirstGame().run()"
   ]
  },
  {
   "cell_type": "markdown",
   "metadata": {},
   "source": [
    "Этот код не только короче, но и не требует создания буферных переменных, а что самое главное он отслеживает зажатие клавишь!\n",
    "\n",
    "В данном случае скорость нашего персонажа = 1, это значит, что мы можем ускорить его если умножим на какой то коэффициент, например на 2"
   ]
  },
  {
   "cell_type": "code",
   "execution_count": 27,
   "metadata": {},
   "outputs": [],
   "source": [
    "from first_engine.game import Game\n",
    "from first_engine.objects import Object\n",
    "import pygame\n",
    "\n",
    "\n",
    "class FirstGame(Game):\n",
    "\n",
    "    def run(self):\n",
    "\n",
    "        char = Object(self.surface, x=100, y=100)\n",
    "\n",
    "        while self.RUNNER:\n",
    "            self.fps_counter(60)\n",
    "            self.display_update()\n",
    "            self.window_fill()\n",
    "\n",
    "            char.blit()\n",
    "\n",
    "            char.body.x += pygame.key.get_pressed()[100] * 2\n",
    "            char.body.x -= pygame.key.get_pressed()[97] * 2\n",
    "            char.body.y += pygame.key.get_pressed()[115] * 2\n",
    "            char.body.y -= pygame.key.get_pressed()[119] * 2\n",
    " \n",
    "            for event in self.events():\n",
    "                # print(event)  # отслеживание событий\n",
    "\n",
    "                self.close(event)\n",
    "\n",
    "\n",
    "FirstGame().run()"
   ]
  },
  {
   "cell_type": "markdown",
   "metadata": {},
   "source": [
    "Есть проблема с нашим коэффициентом, если мы захотим уменьшить скорость персонажа, например умножив на 0.5, то он не будет двигаться вправо и вниз, но будет двигаться влево и вверх, так как тело персонажа округляет прибавляемый коэффициент в меньшую сторону."
   ]
  },
  {
   "cell_type": "code",
   "execution_count": 31,
   "metadata": {},
   "outputs": [],
   "source": [
    "from first_engine.game import Game\n",
    "from first_engine.objects import Object\n",
    "import pygame\n",
    "\n",
    "\n",
    "class FirstGame(Game):\n",
    "\n",
    "    def run(self):\n",
    "\n",
    "        char = Object(self.surface, x=100, y=100)\n",
    "        speed = 0.5\n",
    "\n",
    "        while self.RUNNER:\n",
    "            self.fps_counter(60)\n",
    "            self.display_update()\n",
    "            self.window_fill()\n",
    "\n",
    "            char.blit()\n",
    "\n",
    "            char.body.x += pygame.key.get_pressed()[100] * speed\n",
    "            char.body.x -= pygame.key.get_pressed()[97] * speed\n",
    "            char.body.y += pygame.key.get_pressed()[115] * speed\n",
    "            char.body.y -= pygame.key.get_pressed()[119] * speed\n",
    " \n",
    "            for event in self.events():\n",
    "                # print(event)  # отслеживание событий\n",
    "\n",
    "                self.close(event)\n",
    "\n",
    "\n",
    "FirstGame().run()"
   ]
  },
  {
   "cell_type": "markdown",
   "metadata": {},
   "source": [
    "Для того что бы этого избежать, мы будем считать местоположение персонажа отдельно, а не в теле, как до этого и только после расчета будем создавать тело персонажа на новых координатах, а дальше пусть оно округляет свое место положение сколько влезет, все = будет двигаться с нашей скоростью)"
   ]
  },
  {
   "cell_type": "code",
   "execution_count": 38,
   "metadata": {},
   "outputs": [],
   "source": [
    "from first_engine.game import Game\n",
    "from first_engine.objects import Object\n",
    "import pygame\n",
    "\n",
    "\n",
    "class FirstGame(Game):\n",
    "\n",
    "    def run(self):\n",
    "        \n",
    "        x = 100\n",
    "        y = 100\n",
    "        char = Object(self.surface, x=x, y=y)\n",
    "        speed = 0.5\n",
    "\n",
    "        while self.RUNNER:\n",
    "            self.fps_counter(60)\n",
    "            self.display_update()\n",
    "            self.window_fill()\n",
    "            \n",
    "            char_body = char.skin.get_rect(topleft=(x, y))\n",
    "            self.surface.blit(source=char.skin, dest=char_body)\n",
    "\n",
    "            x += pygame.key.get_pressed()[100] * speed\n",
    "            x -= pygame.key.get_pressed()[97] * speed\n",
    "            y += pygame.key.get_pressed()[115] * speed\n",
    "            y -= pygame.key.get_pressed()[119] * speed\n",
    " \n",
    "            for event in self.events():\n",
    "                # print(event)  # отслеживание событий\n",
    "\n",
    "                self.close(event)\n",
    "\n",
    "\n",
    "FirstGame().run()"
   ]
  },
  {
   "cell_type": "markdown",
   "metadata": {},
   "source": [
    "Добавим в класс Object новый метод, а так же параметр класса - скорость, который мы будем использовать как коеффициент для настраивания скорости, и сохраним X и Y в переменные класса"
   ]
  },
  {
   "cell_type": "code",
   "execution_count": null,
   "metadata": {},
   "outputs": [],
   "source": [
    "import pygame\n",
    "\n",
    "\n",
    "class Object:\n",
    "\n",
    "    def __init__(self, parent: pygame.Surface,\n",
    "                 width=40, height=40, x=0, y=0,\n",
    "                 color=(255, 255, 255), \n",
    "                 speed=1): # по умолчанию скорость = 1\n",
    "        ...\n",
    "        # сохраним дополнительные параметры класса\n",
    "        self.x = x\n",
    "        self.y = y\n",
    "        self.speed = speed\n",
    "\n",
    "    def blit(self):\n",
    "        self.body.topleft = self.x, self.y # теперь в этом методе мы так же будем менять координаты тела\n",
    "        self.parent.blit(source=self.skin, dest=self.body)\n",
    "        \n",
    "    def recolor(self, color):\n",
    "        ...\n",
    "\n",
    "    def motion(self): # создаем метод для управления движением\n",
    "        # здесь отслеживаем нажатие кнопок\n",
    "        left = pygame.key.get_pressed()[97]\n",
    "        right = pygame.key.get_pressed()[100]\n",
    "        up = pygame.key.get_pressed()[115]\n",
    "        down = pygame.key.get_pressed()[119]\n",
    "        \n",
    "        # а здесь меняем координаты\n",
    "        self.x -= left * speed\n",
    "        self.x += right * speed\n",
    "        self.y += up * speed\n",
    "        self.y -= down * speed\n",
    "        \n",
    "    def change_speed(self):\n",
    "        self.speed = speed"
   ]
  },
  {
   "cell_type": "code",
   "execution_count": 44,
   "metadata": {},
   "outputs": [],
   "source": [
    "import matplotlib.pyplot as plt"
   ]
  },
  {
   "cell_type": "markdown",
   "metadata": {},
   "source": [
    "И еще 1, когда наш перс двигается по диагонали, то его скорость становится = сумме векторов - то есть персонаж по диагонали движется быстрее, чем по осям.\n",
    "\n",
    "Это надо исправить. Для этого расчитаем скорость с которой персонаж должен двигаться по диагонали."
   ]
  },
  {
   "cell_type": "code",
   "execution_count": 137,
   "metadata": {},
   "outputs": [
    {
     "name": "stdout",
     "output_type": "stream",
     "text": [
      "5.656854249492381\n"
     ]
    }
   ],
   "source": [
    "speed = 4 # допустим скорость = 4\n",
    "\n",
    "speed_xy = (speed ** 2 + speed ** 2) ** (1 / 2)  # находим длину вектора x + y по пифагору\n",
    "print(speed_xy)"
   ]
  },
  {
   "cell_type": "code",
   "execution_count": 138,
   "metadata": {},
   "outputs": [
    {
     "name": "stdout",
     "output_type": "stream",
     "text": [
      "0.7071067811865475\n"
     ]
    }
   ],
   "source": [
    "speed_xy = speed / speed_xy  # находим долю скорости от суммы векторов\n",
    "print(speed_xy)"
   ]
  },
  {
   "cell_type": "code",
   "execution_count": 139,
   "metadata": {},
   "outputs": [
    {
     "name": "stdout",
     "output_type": "stream",
     "text": [
      "2.82842712474619\n"
     ]
    }
   ],
   "source": [
    "speed_xy *= speed  # находим скорость для движения по диагонали\n",
    "print(speed_xy)"
   ]
  },
  {
   "cell_type": "markdown",
   "metadata": {},
   "source": [
    "Добавим новый метод в класс __Object__ и дополним метод __motion__"
   ]
  },
  {
   "cell_type": "code",
   "execution_count": null,
   "metadata": {},
   "outputs": [],
   "source": [
    "import pygame\n",
    "\n",
    "\n",
    "class Object:\n",
    "\n",
    "    ...\n",
    "    \n",
    "    def __diagonal_speed(self):\n",
    "        speed_xy = (self.speed ** 2 + self.speed ** 2) ** (1 / 2)  # находим длину вектора x + y по пифагору\n",
    "        speed_xy = self.speed / speed_xy  # находим долю скорости от суммы векторов\n",
    "        speed_xy *= self.speed  # теперь находим скорость по диагонали\n",
    "        return speed_xy # возвращаем результат\n",
    "    \n",
    "    def motion(self): # метод для перемещения объекта\n",
    "        self.body.x, self.body.y = self.x, self.y # присваиваем координатам тела коодинаты местоположения\n",
    "    \n",
    "    def motion_control(self):\n",
    "        left = pygame.key.get_pressed()[97]\n",
    "        right = pygame.key.get_pressed()[100]\n",
    "        up = pygame.key.get_pressed()[115]\n",
    "        down = pygame.key.get_pressed()[119]\n",
    "        \n",
    "        # если зажаты более 2 кнопок то расчитываем диагональную скорость\n",
    "        speed = self.__diagonal_speed() if (left + right + up + down) > 1 else self.speed\n",
    "\n",
    "        self.x += right * speed\n",
    "        self.y += down * speed\n",
    "\n",
    "        if speed % 1 != 0:               # так как тело округляет свои координаты в меньшую сторону,\n",
    "            self.x -= left * (speed - 1) # если ему присваивается число с плавающей точкой,\n",
    "            self.y -= up * (speed - 1)   # то мы будим вычитать 1 из скорости\n",
    "        else:\n",
    "            self.x -= left * speed\n",
    "            self.y -= up * speed\n",
    "        \n",
    "        self.motion()\n",
    "        return speed\n",
    "    \n",
    "    def change_speed(self, speed): # ну а это метод на стучай если мы захотим менять скорость персонажа в процессе игры\n",
    "        self.speed = speed\n",
    "        return speed"
   ]
  },
  {
   "cell_type": "markdown",
   "metadata": {},
   "source": [
    "# Взаимодействие объектов - обработка столкновений\n",
    "\n",
    "Теперь, когда у нас есть основа для написания игры и создания объектов, мы можем приступить к более интересным вещам)\n",
    "\n",
    "В играх почти все объекты могут взаимодействоввать с персонажем, а иногда и друг с другом. Персонаж стоит на полу, и не проваливается в него, упирается в стены - потому что они взаимодествуют с персонажем - выталкивают его. Получает или наносит повреждение врагам или общается с НПС и так далее.\n",
    "\n",
    "Но начнем с преград, то есть со стен и пола.\n",
    "\n",
    "# Задание:\n",
    "\n",
    "- на основе движка написанного нами, опишите преграды экрана, так, что бы персонаж не мог их покинуть"
   ]
  }
 ],
 "metadata": {
  "kernelspec": {
   "display_name": "Python 3",
   "language": "python",
   "name": "python3"
  },
  "language_info": {
   "codemirror_mode": {
    "name": "ipython",
    "version": 3
   },
   "file_extension": ".py",
   "mimetype": "text/x-python",
   "name": "python",
   "nbconvert_exporter": "python",
   "pygments_lexer": "ipython3",
   "version": "3.7.4"
  }
 },
 "nbformat": 4,
 "nbformat_minor": 2
}

{
 "cells": [
  {
   "cell_type": "code",
   "execution_count": 1,
   "metadata": {},
   "outputs": [],
   "source": [
    "text = '''Развилка:\n",
    "1) на право пойдешь - коня потеряешь\n",
    "2) на лево пойдешь - себя потеряешь\n",
    "3) прямо пойдешь - все потеряешь\n",
    "4) дать'''"
   ]
  },
  {
   "cell_type": "code",
   "execution_count": null,
   "metadata": {},
   "outputs": [
    {
     "name": "stdout",
     "output_type": "stream",
     "text": [
      "Развилка:\n",
      "1) на право пойдешь - коня потеряешь\n",
      "2) на лево пойдешь - себя потеряешь\n",
      "3) прямо пойдешь - все потеряешь\n",
      "4) дать\n"
     ]
    }
   ],
   "source": [
    "print(text)\n",
    "answer = input('Действие: ')\n",
    "i = 2\n",
    "if answer == '1':\n",
    "    print('horse')\n",
    "elif answer == '2':\n",
    "    print('self')\n",
    "elif answer == '3':\n",
    "    print('all')\n",
    "elif answer == '4':\n",
    "    print('one day latter')\n",
    "    while i > 0:\n",
    "        print(text)\n",
    "        answer = input('Действие: ')\n",
    "        if answer == '1':\n",
    "            print('horse')\n",
    "            break\n",
    "        elif answer == '2':\n",
    "            print('self')\n",
    "            break\n",
    "        elif answer == '3':\n",
    "            print('all')\n",
    "            break\n",
    "        elif answer == '4':\n",
    "            print('one day latter')\n",
    "        i -= 1\n",
    "    else:\n",
    "        print('go home')"
   ]
  },
  {
   "cell_type": "code",
   "execution_count": null,
   "metadata": {},
   "outputs": [],
   "source": [
    "i = 3\n",
    "while True:\n",
    "    print(text)\n",
    "    answer = input('Действие: ')\n",
    "    if answer == '1':\n",
    "        print('horse')\n",
    "        break\n",
    "    elif answer == '2':\n",
    "        print('self')\n",
    "        break\n",
    "    elif answer == '3':\n",
    "        print('all')\n",
    "        break\n",
    "    elif answer == '4':\n",
    "        print('one day latter')\n",
    "    i -= 1\n",
    "    if i == 0:\n",
    "        print('go home')\n",
    "        break"
   ]
  }
 ],
 "metadata": {
  "kernelspec": {
   "display_name": "Python 3",
   "language": "python",
   "name": "python3"
  },
  "language_info": {
   "codemirror_mode": {
    "name": "ipython",
    "version": 3
   },
   "file_extension": ".py",
   "mimetype": "text/x-python",
   "name": "python",
   "nbconvert_exporter": "python",
   "pygments_lexer": "ipython3",
   "version": "3.7.4"
  }
 },
 "nbformat": 4,
 "nbformat_minor": 2
}
